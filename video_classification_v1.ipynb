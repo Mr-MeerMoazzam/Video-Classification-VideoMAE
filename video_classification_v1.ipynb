{
  "cells": [
    {
      "cell_type": "markdown",
      "source": [
        "##Install Dependencies"
      ],
      "metadata": {
        "id": "p0NN9NyaAD5m"
      }
    },
    {
      "cell_type": "code",
      "execution_count": null,
      "metadata": {
        "id": "SoCzTCK2WusN",
        "colab": {
          "base_uri": "https://localhost:8080/"
        },
        "outputId": "245562e7-9d43-49eb-cef9-e5d2525b597f"
      },
      "outputs": [
        {
          "output_type": "stream",
          "name": "stdout",
          "text": [
            "Looking in indexes: https://pypi.org/simple, https://us-python.pkg.dev/colab-wheels/public/simple/\n",
            "Collecting datasets\n",
            "  Downloading datasets-2.12.0-py3-none-any.whl (474 kB)\n",
            "\u001b[2K     \u001b[90m━━━━━━━━━━━━━━━━━━━━━━━━━━━━━━━━━━━━━━━\u001b[0m \u001b[32m474.6/474.6 kB\u001b[0m \u001b[31m9.5 MB/s\u001b[0m eta \u001b[36m0:00:00\u001b[0m\n",
            "\u001b[?25hRequirement already satisfied: numpy>=1.17 in /usr/local/lib/python3.10/dist-packages (from datasets) (1.22.4)\n",
            "Requirement already satisfied: pyarrow>=8.0.0 in /usr/local/lib/python3.10/dist-packages (from datasets) (9.0.0)\n",
            "Collecting dill<0.3.7,>=0.3.0 (from datasets)\n",
            "  Downloading dill-0.3.6-py3-none-any.whl (110 kB)\n",
            "\u001b[2K     \u001b[90m━━━━━━━━━━━━━━━━━━━━━━━━━━━━━━━━━━━━━━\u001b[0m \u001b[32m110.5/110.5 kB\u001b[0m \u001b[31m12.9 MB/s\u001b[0m eta \u001b[36m0:00:00\u001b[0m\n",
            "\u001b[?25hRequirement already satisfied: pandas in /usr/local/lib/python3.10/dist-packages (from datasets) (1.5.3)\n",
            "Requirement already satisfied: requests>=2.19.0 in /usr/local/lib/python3.10/dist-packages (from datasets) (2.27.1)\n",
            "Requirement already satisfied: tqdm>=4.62.1 in /usr/local/lib/python3.10/dist-packages (from datasets) (4.65.0)\n",
            "Collecting xxhash (from datasets)\n",
            "  Downloading xxhash-3.2.0-cp310-cp310-manylinux_2_17_x86_64.manylinux2014_x86_64.whl (212 kB)\n",
            "\u001b[2K     \u001b[90m━━━━━━━━━━━━━━━━━━━━━━━━━━━━━━━━━━━━━━\u001b[0m \u001b[32m212.5/212.5 kB\u001b[0m \u001b[31m25.9 MB/s\u001b[0m eta \u001b[36m0:00:00\u001b[0m\n",
            "\u001b[?25hCollecting multiprocess (from datasets)\n",
            "  Downloading multiprocess-0.70.14-py310-none-any.whl (134 kB)\n",
            "\u001b[2K     \u001b[90m━━━━━━━━━━━━━━━━━━━━━━━━━━━━━━━━━━━━━━\u001b[0m \u001b[32m134.3/134.3 kB\u001b[0m \u001b[31m19.1 MB/s\u001b[0m eta \u001b[36m0:00:00\u001b[0m\n",
            "\u001b[?25hRequirement already satisfied: fsspec[http]>=2021.11.1 in /usr/local/lib/python3.10/dist-packages (from datasets) (2023.4.0)\n",
            "Collecting aiohttp (from datasets)\n",
            "  Downloading aiohttp-3.8.4-cp310-cp310-manylinux_2_17_x86_64.manylinux2014_x86_64.whl (1.0 MB)\n",
            "\u001b[2K     \u001b[90m━━━━━━━━━━━━━━━━━━━━━━━━━━━━━━━━━━━━━━━━\u001b[0m \u001b[32m1.0/1.0 MB\u001b[0m \u001b[31m47.6 MB/s\u001b[0m eta \u001b[36m0:00:00\u001b[0m\n",
            "\u001b[?25hCollecting huggingface-hub<1.0.0,>=0.11.0 (from datasets)\n",
            "  Downloading huggingface_hub-0.14.1-py3-none-any.whl (224 kB)\n",
            "\u001b[2K     \u001b[90m━━━━━━━━━━━━━━━━━━━━━━━━━━━━━━━━━━━━━━\u001b[0m \u001b[32m224.5/224.5 kB\u001b[0m \u001b[31m23.1 MB/s\u001b[0m eta \u001b[36m0:00:00\u001b[0m\n",
            "\u001b[?25hRequirement already satisfied: packaging in /usr/local/lib/python3.10/dist-packages (from datasets) (23.1)\n",
            "Collecting responses<0.19 (from datasets)\n",
            "  Downloading responses-0.18.0-py3-none-any.whl (38 kB)\n",
            "Requirement already satisfied: pyyaml>=5.1 in /usr/local/lib/python3.10/dist-packages (from datasets) (6.0)\n",
            "Requirement already satisfied: attrs>=17.3.0 in /usr/local/lib/python3.10/dist-packages (from aiohttp->datasets) (23.1.0)\n",
            "Requirement already satisfied: charset-normalizer<4.0,>=2.0 in /usr/local/lib/python3.10/dist-packages (from aiohttp->datasets) (2.0.12)\n",
            "Collecting multidict<7.0,>=4.5 (from aiohttp->datasets)\n",
            "  Downloading multidict-6.0.4-cp310-cp310-manylinux_2_17_x86_64.manylinux2014_x86_64.whl (114 kB)\n",
            "\u001b[2K     \u001b[90m━━━━━━━━━━━━━━━━━━━━━━━━━━━━━━━━━━━━━━\u001b[0m \u001b[32m114.5/114.5 kB\u001b[0m \u001b[31m15.7 MB/s\u001b[0m eta \u001b[36m0:00:00\u001b[0m\n",
            "\u001b[?25hCollecting async-timeout<5.0,>=4.0.0a3 (from aiohttp->datasets)\n",
            "  Downloading async_timeout-4.0.2-py3-none-any.whl (5.8 kB)\n",
            "Collecting yarl<2.0,>=1.0 (from aiohttp->datasets)\n",
            "  Downloading yarl-1.9.2-cp310-cp310-manylinux_2_17_x86_64.manylinux2014_x86_64.whl (268 kB)\n",
            "\u001b[2K     \u001b[90m━━━━━━━━━━━━━━━━━━━━━━━━━━━━━━━━━━━━━━\u001b[0m \u001b[32m268.8/268.8 kB\u001b[0m \u001b[31m16.0 MB/s\u001b[0m eta \u001b[36m0:00:00\u001b[0m\n",
            "\u001b[?25hCollecting frozenlist>=1.1.1 (from aiohttp->datasets)\n",
            "  Downloading frozenlist-1.3.3-cp310-cp310-manylinux_2_5_x86_64.manylinux1_x86_64.manylinux_2_17_x86_64.manylinux2014_x86_64.whl (149 kB)\n",
            "\u001b[2K     \u001b[90m━━━━━━━━━━━━━━━━━━━━━━━━━━━━━━━━━━━━━━\u001b[0m \u001b[32m149.6/149.6 kB\u001b[0m \u001b[31m11.6 MB/s\u001b[0m eta \u001b[36m0:00:00\u001b[0m\n",
            "\u001b[?25hCollecting aiosignal>=1.1.2 (from aiohttp->datasets)\n",
            "  Downloading aiosignal-1.3.1-py3-none-any.whl (7.6 kB)\n",
            "Requirement already satisfied: filelock in /usr/local/lib/python3.10/dist-packages (from huggingface-hub<1.0.0,>=0.11.0->datasets) (3.12.0)\n",
            "Requirement already satisfied: typing-extensions>=3.7.4.3 in /usr/local/lib/python3.10/dist-packages (from huggingface-hub<1.0.0,>=0.11.0->datasets) (4.5.0)\n",
            "Requirement already satisfied: urllib3<1.27,>=1.21.1 in /usr/local/lib/python3.10/dist-packages (from requests>=2.19.0->datasets) (1.26.15)\n",
            "Requirement already satisfied: certifi>=2017.4.17 in /usr/local/lib/python3.10/dist-packages (from requests>=2.19.0->datasets) (2022.12.7)\n",
            "Requirement already satisfied: idna<4,>=2.5 in /usr/local/lib/python3.10/dist-packages (from requests>=2.19.0->datasets) (3.4)\n",
            "Requirement already satisfied: python-dateutil>=2.8.1 in /usr/local/lib/python3.10/dist-packages (from pandas->datasets) (2.8.2)\n",
            "Requirement already satisfied: pytz>=2020.1 in /usr/local/lib/python3.10/dist-packages (from pandas->datasets) (2022.7.1)\n",
            "Requirement already satisfied: six>=1.5 in /usr/local/lib/python3.10/dist-packages (from python-dateutil>=2.8.1->pandas->datasets) (1.16.0)\n",
            "Installing collected packages: xxhash, multidict, frozenlist, dill, async-timeout, yarl, responses, multiprocess, huggingface-hub, aiosignal, aiohttp, datasets\n",
            "Successfully installed aiohttp-3.8.4 aiosignal-1.3.1 async-timeout-4.0.2 datasets-2.12.0 dill-0.3.6 frozenlist-1.3.3 huggingface-hub-0.14.1 multidict-6.0.4 multiprocess-0.70.14 responses-0.18.0 xxhash-3.2.0 yarl-1.9.2\n",
            "\u001b[2K     \u001b[90m━━━━━━━━━━━━━━━━━━━━━━━━━━━━━━━━━━━━━━\u001b[0m \u001b[32m132.7/132.7 kB\u001b[0m \u001b[31m10.7 MB/s\u001b[0m eta \u001b[36m0:00:00\u001b[0m\n",
            "\u001b[?25h  Preparing metadata (setup.py) ... \u001b[?25l\u001b[?25hdone\n",
            "\u001b[2K     \u001b[90m━━━━━━━━━━━━━━━━━━━━━━━━━━━━━━━━━━━━━━━━\u001b[0m \u001b[32m81.4/81.4 kB\u001b[0m \u001b[31m10.7 MB/s\u001b[0m eta \u001b[36m0:00:00\u001b[0m\n",
            "\u001b[2K     \u001b[90m━━━━━━━━━━━━━━━━━━━━━━━━━━━━━━━━━━━━━━━━\u001b[0m \u001b[32m13.6/13.6 MB\u001b[0m \u001b[31m94.7 MB/s\u001b[0m eta \u001b[36m0:00:00\u001b[0m\n",
            "\u001b[2K     \u001b[90m━━━━━━━━━━━━━━━━━━━━━━━━━━━━━━━━━━━━━━━━\u001b[0m \u001b[32m50.2/50.2 kB\u001b[0m \u001b[31m5.9 MB/s\u001b[0m eta \u001b[36m0:00:00\u001b[0m\n",
            "\u001b[?25h  Preparing metadata (setup.py) ... \u001b[?25l\u001b[?25hdone\n",
            "\u001b[2K     \u001b[90m━━━━━━━━━━━━━━━━━━━━━━━━━━━━━━━━━━━━━━━━\u001b[0m \u001b[32m31.0/31.0 MB\u001b[0m \u001b[31m38.2 MB/s\u001b[0m eta \u001b[36m0:00:00\u001b[0m\n",
            "\u001b[2K     \u001b[90m━━━━━━━━━━━━━━━━━━━━━━━━━━━━━━━━━━━━━━━━\u001b[0m \u001b[32m42.2/42.2 kB\u001b[0m \u001b[31m4.1 MB/s\u001b[0m eta \u001b[36m0:00:00\u001b[0m\n",
            "\u001b[?25h  Preparing metadata (setup.py) ... \u001b[?25l\u001b[?25hdone\n",
            "  Building wheel for pytorchvideo (setup.py) ... \u001b[?25l\u001b[?25hdone\n",
            "  Building wheel for fvcore (setup.py) ... \u001b[?25l\u001b[?25hdone\n",
            "  Building wheel for iopath (setup.py) ... \u001b[?25l\u001b[?25hdone\n",
            "Looking in indexes: https://pypi.org/simple, https://us-python.pkg.dev/colab-wheels/public/simple/\n",
            "Collecting transformers==4.28.0\n",
            "  Downloading transformers-4.28.0-py3-none-any.whl (7.0 MB)\n",
            "\u001b[2K     \u001b[90m━━━━━━━━━━━━━━━━━━━━━━━━━━━━━━━━━━━━━━━━\u001b[0m \u001b[32m7.0/7.0 MB\u001b[0m \u001b[31m90.0 MB/s\u001b[0m eta \u001b[36m0:00:00\u001b[0m\n",
            "\u001b[?25hRequirement already satisfied: filelock in /usr/local/lib/python3.10/dist-packages (from transformers==4.28.0) (3.12.0)\n",
            "Requirement already satisfied: huggingface-hub<1.0,>=0.11.0 in /usr/local/lib/python3.10/dist-packages (from transformers==4.28.0) (0.14.1)\n",
            "Requirement already satisfied: numpy>=1.17 in /usr/local/lib/python3.10/dist-packages (from transformers==4.28.0) (1.22.4)\n",
            "Requirement already satisfied: packaging>=20.0 in /usr/local/lib/python3.10/dist-packages (from transformers==4.28.0) (23.1)\n",
            "Requirement already satisfied: pyyaml>=5.1 in /usr/local/lib/python3.10/dist-packages (from transformers==4.28.0) (6.0)\n",
            "Requirement already satisfied: regex!=2019.12.17 in /usr/local/lib/python3.10/dist-packages (from transformers==4.28.0) (2022.10.31)\n",
            "Requirement already satisfied: requests in /usr/local/lib/python3.10/dist-packages (from transformers==4.28.0) (2.27.1)\n",
            "Collecting tokenizers!=0.11.3,<0.14,>=0.11.1 (from transformers==4.28.0)\n",
            "  Downloading tokenizers-0.13.3-cp310-cp310-manylinux_2_17_x86_64.manylinux2014_x86_64.whl (7.8 MB)\n",
            "\u001b[2K     \u001b[90m━━━━━━━━━━━━━━━━━━━━━━━━━━━━━━━━━━━━━━━━\u001b[0m \u001b[32m7.8/7.8 MB\u001b[0m \u001b[31m99.3 MB/s\u001b[0m eta \u001b[36m0:00:00\u001b[0m\n",
            "\u001b[?25hRequirement already satisfied: tqdm>=4.27 in /usr/local/lib/python3.10/dist-packages (from transformers==4.28.0) (4.65.0)\n",
            "Requirement already satisfied: fsspec in /usr/local/lib/python3.10/dist-packages (from huggingface-hub<1.0,>=0.11.0->transformers==4.28.0) (2023.4.0)\n",
            "Requirement already satisfied: typing-extensions>=3.7.4.3 in /usr/local/lib/python3.10/dist-packages (from huggingface-hub<1.0,>=0.11.0->transformers==4.28.0) (4.5.0)\n",
            "Requirement already satisfied: urllib3<1.27,>=1.21.1 in /usr/local/lib/python3.10/dist-packages (from requests->transformers==4.28.0) (1.26.15)\n",
            "Requirement already satisfied: certifi>=2017.4.17 in /usr/local/lib/python3.10/dist-packages (from requests->transformers==4.28.0) (2022.12.7)\n",
            "Requirement already satisfied: charset-normalizer~=2.0.0 in /usr/local/lib/python3.10/dist-packages (from requests->transformers==4.28.0) (2.0.12)\n",
            "Requirement already satisfied: idna<4,>=2.5 in /usr/local/lib/python3.10/dist-packages (from requests->transformers==4.28.0) (3.4)\n",
            "Installing collected packages: tokenizers, transformers\n",
            "Successfully installed tokenizers-0.13.3 transformers-4.28.0\n"
          ]
        }
      ],
      "source": [
        "# Transformers installation\n",
        "! pip install datasets\n",
        "! pip install -q pytorchvideo evaluate torch decord\n",
        "! pip install transformers==4.28.0\n"
      ]
    },
    {
      "cell_type": "markdown",
      "metadata": {
        "id": "b1msXIfQWusU"
      },
      "source": [
        "# Video classification"
      ]
    },
    {
      "cell_type": "markdown",
      "metadata": {
        "id": "E6KXDrqmWusZ"
      },
      "source": [
        "Video classification is the task of assigning a label or class to an entire video. Videos are expected to have only one class for each video. Video classification models take a video as input and return a prediction about which class the video belongs to. These models can be used to categorize what a video is all about. A real-world application of video classification is action / activity recognition, which is useful for fitness applications. It is also helpful for vision-impaired individuals, especially when they are commuting.\n",
        "\n",
        "Login to your Hugging Face account so you can upload and share your model with the community. When prompted, enter your token to log in:"
      ]
    },
    {
      "cell_type": "code",
      "execution_count": null,
      "metadata": {
        "id": "hbsPbOl2Wusc",
        "colab": {
          "base_uri": "https://localhost:8080/",
          "height": 145,
          "referenced_widgets": [
            "128640c71fcc4693809ce1bdc66a598b",
            "0f4a56e9a32443e5b83fa33374329901",
            "7968a805ea1f4ac2850e41f4d760060f",
            "797d5e4717884991961e6dd0ed98cdb2",
            "bab4e3d67f33431595dc8407f054cca4",
            "81616b070cf64e4ab539acacbbc5901e",
            "4b87eed71203447090bde1a41f8edd3c",
            "376243a8d9c246ffb84ede95ecd8df5d",
            "893317cba6964dffa0f27d28c54211d8",
            "7d6043024bf344ccb0ca2386d4875682",
            "decc998004e444d9b9a3f1727b4d5bf0",
            "17473a05cd8d4fb0a444c801b1b9ea62",
            "2420905239664a4ca1c081c3e54ebfca",
            "a9ccdb300dcb4131ba30c765d267b25b",
            "0da7f862d89442369963893f9aa0a65e",
            "254f0f124e9642a4b6db7e9ffead64d5",
            "5d486a00d00c4b65a2844bd731258b88",
            "3451a64c20384315ac6cc5b29f79cfcd",
            "5d428bdcddf04f858745d000a77e1414",
            "dd8aeaae8c864f2085498a4235b62a1e",
            "bf169bfe8f6b4fe69b82a372412f5845",
            "3a56cba7a96049bbaf8ebb6fcb8bda46",
            "e0ce27b508664737802294c15079a830",
            "141255e43ed04154987943b881e2cd3f",
            "b7fb0e6eeb5c402ab7a25af5c51394ba",
            "fe90f8167b924ca0b167ca3ca1fbebe9",
            "156b145bc48e46dfbef062ce8f761eb6",
            "15070b0c957a48549048602ba3409e82",
            "e32340fdd2cf4affa0668e2a8b5399a2",
            "9044e627a5b842708273ca0aaffb9cc6",
            "eec7e4744c994fdd857f587d96b77534",
            "4ab764a740154178858f5e621f5273c2"
          ]
        },
        "outputId": "f10c6666-b4ba-417b-fbe5-7808912c6a8d"
      },
      "outputs": [
        {
          "output_type": "display_data",
          "data": {
            "text/plain": [
              "VBox(children=(HTML(value='<center> <img\\nsrc=https://huggingface.co/front/assets/huggingface_logo-noborder.sv…"
            ],
            "application/vnd.jupyter.widget-view+json": {
              "version_major": 2,
              "version_minor": 0,
              "model_id": "128640c71fcc4693809ce1bdc66a598b"
            }
          },
          "metadata": {}
        }
      ],
      "source": [
        "from huggingface_hub import notebook_login\n",
        "\n",
        "notebook_login()"
      ]
    },
    {
      "cell_type": "markdown",
      "metadata": {
        "id": "vR8FKDkMWuse"
      },
      "source": [
        "## Load UCF101 dataset"
      ]
    },
    {
      "cell_type": "code",
      "execution_count": null,
      "metadata": {
        "id": "RteXQDttWusg",
        "colab": {
          "base_uri": "https://localhost:8080/",
          "height": 49,
          "referenced_widgets": [
            "8a2f9843554d4b96a62021ba51b011bf",
            "70346750898441e2a24036e2980c3b60",
            "160855d381464208b4b33d79f639db29",
            "f98f8aebdc6249d6872cf91123082831",
            "872ae20f26824ce281eb8f933f9e265a",
            "84b289080ee9406fa0836aaf0eda939a",
            "a8208443a022409a862f8bc5bd39b6b3",
            "1b1b214df541478fa6a39dbe90e7a549",
            "dd849002d4a545e8aef7093fc8f41a6c",
            "b9de5550972f46cea67f1c52112e7525",
            "b16e11956cf441a3a6ae2a5f2c1f4c8d"
          ]
        },
        "outputId": "3eb1a9be-1647-407a-bc40-1a91b270e38d"
      },
      "outputs": [
        {
          "output_type": "display_data",
          "data": {
            "text/plain": [
              "Downloading UCF101_subset.tar.gz:   0%|          | 0.00/171M [00:00<?, ?B/s]"
            ],
            "application/vnd.jupyter.widget-view+json": {
              "version_major": 2,
              "version_minor": 0,
              "model_id": "8a2f9843554d4b96a62021ba51b011bf"
            }
          },
          "metadata": {}
        }
      ],
      "source": [
        "from huggingface_hub import hf_hub_download\n",
        "\n",
        "hf_dataset_identifier = \"sayakpaul/ucf101-subset\"\n",
        "filename = \"UCF101_subset.tar.gz\"\n",
        "file_path = hf_hub_download(repo_id=hf_dataset_identifier, filename=filename, repo_type=\"dataset\")"
      ]
    },
    {
      "cell_type": "markdown",
      "metadata": {
        "id": "yLnL4tcDWush"
      },
      "source": [
        "After the subset has been downloaded, you need to extract the compressed archive:"
      ]
    },
    {
      "cell_type": "code",
      "execution_count": null,
      "metadata": {
        "id": "t5p4e8zAWusj"
      },
      "outputs": [],
      "source": [
        "import tarfile\n",
        "\n",
        "with tarfile.open(file_path) as t:\n",
        "     t.extractall(\".\")"
      ]
    },
    {
      "cell_type": "markdown",
      "metadata": {
        "id": "szTce9iVWusk"
      },
      "source": [
        "Now we will derive the set of labels present in the dataset. Also, create two dictionaries that'll be helpful when initializing the model:\n",
        "\n",
        "* `label2id`: maps the class names to integers.\n",
        "* `id2label`: maps the integers to class names."
      ]
    },
    {
      "cell_type": "code",
      "source": [
        "import os\n",
        "\n",
        "dataset_path = \"/content/UCF101_subset\"\n",
        "\n",
        "# Train videos\n",
        "train_path = os.path.join(dataset_path, \"train\")\n",
        "train_videos = []\n",
        "for category in os.listdir(train_path):\n",
        "    category_path = os.path.join(train_path, category)\n",
        "    if os.path.isdir(category_path):\n",
        "        videos = [os.path.join(category_path, video) for video in os.listdir(category_path) if video.endswith(\".avi\")]\n",
        "        train_videos.extend(videos)\n",
        "train_videos.sort()\n",
        "\n",
        "# Validation videos\n",
        "val_path = os.path.join(dataset_path, \"val\")\n",
        "val_videos = []\n",
        "for category in os.listdir(val_path):\n",
        "    category_path = os.path.join(val_path, category)\n",
        "    if os.path.isdir(category_path):\n",
        "        videos = [os.path.join(category_path, video) for video in os.listdir(category_path) if video.endswith(\".avi\")]\n",
        "        val_videos.extend(videos)\n",
        "val_videos.sort()\n",
        "\n",
        "# Test videos\n",
        "test_path = os.path.join(dataset_path, \"test\")\n",
        "test_videos = []\n",
        "for category in os.listdir(test_path):\n",
        "    category_path = os.path.join(test_path, category)\n",
        "    if os.path.isdir(category_path):\n",
        "        videos = [os.path.join(category_path, video) for video in os.listdir(category_path) if video.endswith(\".avi\")]\n",
        "        test_videos.extend(videos)\n",
        "test_videos.sort()\n",
        "\n",
        "# Print all video paths\n",
        "all_video_file_paths = train_videos + val_videos + test_videos\n",
        "for video_path in all_video_file_paths:\n",
        "    print(video_path)\n"
      ],
      "metadata": {
        "colab": {
          "base_uri": "https://localhost:8080/"
        },
        "id": "8BtMnOEQZ-bS",
        "outputId": "3540f70c-cae8-45fb-ceff-9930f4100303"
      },
      "execution_count": null,
      "outputs": [
        {
          "output_type": "stream",
          "name": "stdout",
          "text": [
            "/content/UCF101_subset/train/ApplyEyeMakeup/v_ApplyEyeMakeup_g02_c03.avi\n",
            "/content/UCF101_subset/train/ApplyEyeMakeup/v_ApplyEyeMakeup_g04_c07.avi\n",
            "/content/UCF101_subset/train/ApplyEyeMakeup/v_ApplyEyeMakeup_g05_c02.avi\n",
            "/content/UCF101_subset/train/ApplyEyeMakeup/v_ApplyEyeMakeup_g05_c06.avi\n",
            "/content/UCF101_subset/train/ApplyEyeMakeup/v_ApplyEyeMakeup_g06_c03.avi\n",
            "/content/UCF101_subset/train/ApplyEyeMakeup/v_ApplyEyeMakeup_g07_c04.avi\n",
            "/content/UCF101_subset/train/ApplyEyeMakeup/v_ApplyEyeMakeup_g07_c06.avi\n",
            "/content/UCF101_subset/train/ApplyEyeMakeup/v_ApplyEyeMakeup_g08_c01.avi\n",
            "/content/UCF101_subset/train/ApplyEyeMakeup/v_ApplyEyeMakeup_g09_c02.avi\n",
            "/content/UCF101_subset/train/ApplyEyeMakeup/v_ApplyEyeMakeup_g09_c06.avi\n",
            "/content/UCF101_subset/train/ApplyEyeMakeup/v_ApplyEyeMakeup_g10_c01.avi\n",
            "/content/UCF101_subset/train/ApplyEyeMakeup/v_ApplyEyeMakeup_g10_c05.avi\n",
            "/content/UCF101_subset/train/ApplyEyeMakeup/v_ApplyEyeMakeup_g11_c02.avi\n",
            "/content/UCF101_subset/train/ApplyEyeMakeup/v_ApplyEyeMakeup_g11_c04.avi\n",
            "/content/UCF101_subset/train/ApplyEyeMakeup/v_ApplyEyeMakeup_g12_c05.avi\n",
            "/content/UCF101_subset/train/ApplyEyeMakeup/v_ApplyEyeMakeup_g13_c05.avi\n",
            "/content/UCF101_subset/train/ApplyEyeMakeup/v_ApplyEyeMakeup_g15_c06.avi\n",
            "/content/UCF101_subset/train/ApplyEyeMakeup/v_ApplyEyeMakeup_g16_c03.avi\n",
            "/content/UCF101_subset/train/ApplyEyeMakeup/v_ApplyEyeMakeup_g17_c04.avi\n",
            "/content/UCF101_subset/train/ApplyEyeMakeup/v_ApplyEyeMakeup_g18_c01.avi\n",
            "/content/UCF101_subset/train/ApplyEyeMakeup/v_ApplyEyeMakeup_g18_c03.avi\n",
            "/content/UCF101_subset/train/ApplyEyeMakeup/v_ApplyEyeMakeup_g19_c02.avi\n",
            "/content/UCF101_subset/train/ApplyEyeMakeup/v_ApplyEyeMakeup_g21_c04.avi\n",
            "/content/UCF101_subset/train/ApplyEyeMakeup/v_ApplyEyeMakeup_g22_c01.avi\n",
            "/content/UCF101_subset/train/ApplyEyeMakeup/v_ApplyEyeMakeup_g22_c05.avi\n",
            "/content/UCF101_subset/train/ApplyEyeMakeup/v_ApplyEyeMakeup_g24_c02.avi\n",
            "/content/UCF101_subset/train/ApplyEyeMakeup/v_ApplyEyeMakeup_g25_c01.avi\n",
            "/content/UCF101_subset/train/ApplyEyeMakeup/v_ApplyEyeMakeup_g25_c03.avi\n",
            "/content/UCF101_subset/train/ApplyEyeMakeup/v_ApplyEyeMakeup_g25_c05.avi\n",
            "/content/UCF101_subset/train/ApplyEyeMakeup/v_ApplyEyeMakeup_g25_c07.avi\n",
            "/content/UCF101_subset/train/ApplyLipstick/v_ApplyLipstick_g01_c02.avi\n",
            "/content/UCF101_subset/train/ApplyLipstick/v_ApplyLipstick_g01_c04.avi\n",
            "/content/UCF101_subset/train/ApplyLipstick/v_ApplyLipstick_g02_c01.avi\n",
            "/content/UCF101_subset/train/ApplyLipstick/v_ApplyLipstick_g02_c03.avi\n",
            "/content/UCF101_subset/train/ApplyLipstick/v_ApplyLipstick_g03_c01.avi\n",
            "/content/UCF101_subset/train/ApplyLipstick/v_ApplyLipstick_g03_c03.avi\n",
            "/content/UCF101_subset/train/ApplyLipstick/v_ApplyLipstick_g04_c01.avi\n",
            "/content/UCF101_subset/train/ApplyLipstick/v_ApplyLipstick_g04_c05.avi\n",
            "/content/UCF101_subset/train/ApplyLipstick/v_ApplyLipstick_g05_c02.avi\n",
            "/content/UCF101_subset/train/ApplyLipstick/v_ApplyLipstick_g06_c03.avi\n",
            "/content/UCF101_subset/train/ApplyLipstick/v_ApplyLipstick_g07_c02.avi\n",
            "/content/UCF101_subset/train/ApplyLipstick/v_ApplyLipstick_g08_c02.avi\n",
            "/content/UCF101_subset/train/ApplyLipstick/v_ApplyLipstick_g09_c04.avi\n",
            "/content/UCF101_subset/train/ApplyLipstick/v_ApplyLipstick_g11_c04.avi\n",
            "/content/UCF101_subset/train/ApplyLipstick/v_ApplyLipstick_g12_c04.avi\n",
            "/content/UCF101_subset/train/ApplyLipstick/v_ApplyLipstick_g13_c03.avi\n",
            "/content/UCF101_subset/train/ApplyLipstick/v_ApplyLipstick_g15_c03.avi\n",
            "/content/UCF101_subset/train/ApplyLipstick/v_ApplyLipstick_g17_c01.avi\n",
            "/content/UCF101_subset/train/ApplyLipstick/v_ApplyLipstick_g17_c03.avi\n",
            "/content/UCF101_subset/train/ApplyLipstick/v_ApplyLipstick_g18_c02.avi\n",
            "/content/UCF101_subset/train/ApplyLipstick/v_ApplyLipstick_g18_c04.avi\n",
            "/content/UCF101_subset/train/ApplyLipstick/v_ApplyLipstick_g19_c02.avi\n",
            "/content/UCF101_subset/train/ApplyLipstick/v_ApplyLipstick_g19_c04.avi\n",
            "/content/UCF101_subset/train/ApplyLipstick/v_ApplyLipstick_g21_c01.avi\n",
            "/content/UCF101_subset/train/ApplyLipstick/v_ApplyLipstick_g21_c03.avi\n",
            "/content/UCF101_subset/train/ApplyLipstick/v_ApplyLipstick_g22_c02.avi\n",
            "/content/UCF101_subset/train/ApplyLipstick/v_ApplyLipstick_g22_c04.avi\n",
            "/content/UCF101_subset/train/ApplyLipstick/v_ApplyLipstick_g22_c06.avi\n",
            "/content/UCF101_subset/train/ApplyLipstick/v_ApplyLipstick_g23_c03.avi\n",
            "/content/UCF101_subset/train/ApplyLipstick/v_ApplyLipstick_g24_c05.avi\n",
            "/content/UCF101_subset/train/Archery/v_Archery_g01_c04.avi\n",
            "/content/UCF101_subset/train/Archery/v_Archery_g02_c01.avi\n",
            "/content/UCF101_subset/train/Archery/v_Archery_g02_c05.avi\n",
            "/content/UCF101_subset/train/Archery/v_Archery_g03_c02.avi\n",
            "/content/UCF101_subset/train/Archery/v_Archery_g04_c01.avi\n",
            "/content/UCF101_subset/train/Archery/v_Archery_g04_c03.avi\n",
            "/content/UCF101_subset/train/Archery/v_Archery_g05_c04.avi\n",
            "/content/UCF101_subset/train/Archery/v_Archery_g06_c01.avi\n",
            "/content/UCF101_subset/train/Archery/v_Archery_g06_c03.avi\n",
            "/content/UCF101_subset/train/Archery/v_Archery_g06_c05.avi\n",
            "/content/UCF101_subset/train/Archery/v_Archery_g07_c01.avi\n",
            "/content/UCF101_subset/train/Archery/v_Archery_g07_c05.avi\n",
            "/content/UCF101_subset/train/Archery/v_Archery_g08_c01.avi\n",
            "/content/UCF101_subset/train/Archery/v_Archery_g09_c02.avi\n",
            "/content/UCF101_subset/train/Archery/v_Archery_g10_c03.avi\n",
            "/content/UCF101_subset/train/Archery/v_Archery_g10_c05.avi\n",
            "/content/UCF101_subset/train/Archery/v_Archery_g11_c04.avi\n",
            "/content/UCF101_subset/train/Archery/v_Archery_g11_c06.avi\n",
            "/content/UCF101_subset/train/Archery/v_Archery_g13_c03.avi\n",
            "/content/UCF101_subset/train/Archery/v_Archery_g13_c07.avi\n",
            "/content/UCF101_subset/train/Archery/v_Archery_g14_c04.avi\n",
            "/content/UCF101_subset/train/Archery/v_Archery_g15_c02.avi\n",
            "/content/UCF101_subset/train/Archery/v_Archery_g19_c03.avi\n",
            "/content/UCF101_subset/train/Archery/v_Archery_g20_c05.avi\n",
            "/content/UCF101_subset/train/Archery/v_Archery_g22_c02.avi\n",
            "/content/UCF101_subset/train/Archery/v_Archery_g22_c04.avi\n",
            "/content/UCF101_subset/train/Archery/v_Archery_g23_c05.avi\n",
            "/content/UCF101_subset/train/Archery/v_Archery_g24_c04.avi\n",
            "/content/UCF101_subset/train/Archery/v_Archery_g24_c06.avi\n",
            "/content/UCF101_subset/train/Archery/v_Archery_g25_c04.avi\n",
            "/content/UCF101_subset/train/BabyCrawling/v_BabyCrawling_g01_c03.avi\n",
            "/content/UCF101_subset/train/BabyCrawling/v_BabyCrawling_g02_c01.avi\n",
            "/content/UCF101_subset/train/BabyCrawling/v_BabyCrawling_g02_c03.avi\n",
            "/content/UCF101_subset/train/BabyCrawling/v_BabyCrawling_g02_c05.avi\n",
            "/content/UCF101_subset/train/BabyCrawling/v_BabyCrawling_g05_c01.avi\n",
            "/content/UCF101_subset/train/BabyCrawling/v_BabyCrawling_g06_c04.avi\n",
            "/content/UCF101_subset/train/BabyCrawling/v_BabyCrawling_g07_c02.avi\n",
            "/content/UCF101_subset/train/BabyCrawling/v_BabyCrawling_g07_c06.avi\n",
            "/content/UCF101_subset/train/BabyCrawling/v_BabyCrawling_g08_c02.avi\n",
            "/content/UCF101_subset/train/BabyCrawling/v_BabyCrawling_g08_c04.avi\n",
            "/content/UCF101_subset/train/BabyCrawling/v_BabyCrawling_g10_c04.avi\n",
            "/content/UCF101_subset/train/BabyCrawling/v_BabyCrawling_g11_c01.avi\n",
            "/content/UCF101_subset/train/BabyCrawling/v_BabyCrawling_g11_c03.avi\n",
            "/content/UCF101_subset/train/BabyCrawling/v_BabyCrawling_g12_c03.avi\n",
            "/content/UCF101_subset/train/BabyCrawling/v_BabyCrawling_g14_c01.avi\n",
            "/content/UCF101_subset/train/BabyCrawling/v_BabyCrawling_g14_c03.avi\n",
            "/content/UCF101_subset/train/BabyCrawling/v_BabyCrawling_g15_c01.avi\n",
            "/content/UCF101_subset/train/BabyCrawling/v_BabyCrawling_g15_c03.avi\n",
            "/content/UCF101_subset/train/BabyCrawling/v_BabyCrawling_g15_c05.avi\n",
            "/content/UCF101_subset/train/BabyCrawling/v_BabyCrawling_g16_c05.avi\n",
            "/content/UCF101_subset/train/BabyCrawling/v_BabyCrawling_g17_c01.avi\n",
            "/content/UCF101_subset/train/BabyCrawling/v_BabyCrawling_g17_c05.avi\n",
            "/content/UCF101_subset/train/BabyCrawling/v_BabyCrawling_g18_c02.avi\n",
            "/content/UCF101_subset/train/BabyCrawling/v_BabyCrawling_g20_c03.avi\n",
            "/content/UCF101_subset/train/BabyCrawling/v_BabyCrawling_g20_c05.avi\n",
            "/content/UCF101_subset/train/BabyCrawling/v_BabyCrawling_g20_c07.avi\n",
            "/content/UCF101_subset/train/BabyCrawling/v_BabyCrawling_g23_c01.avi\n",
            "/content/UCF101_subset/train/BabyCrawling/v_BabyCrawling_g24_c01.avi\n",
            "/content/UCF101_subset/train/BabyCrawling/v_BabyCrawling_g24_c05.avi\n",
            "/content/UCF101_subset/train/BabyCrawling/v_BabyCrawling_g25_c01.avi\n",
            "/content/UCF101_subset/train/BalanceBeam/v_BalanceBeam_g01_c03.avi\n",
            "/content/UCF101_subset/train/BalanceBeam/v_BalanceBeam_g02_c03.avi\n",
            "/content/UCF101_subset/train/BalanceBeam/v_BalanceBeam_g03_c01.avi\n",
            "/content/UCF101_subset/train/BalanceBeam/v_BalanceBeam_g03_c03.avi\n",
            "/content/UCF101_subset/train/BalanceBeam/v_BalanceBeam_g04_c01.avi\n",
            "/content/UCF101_subset/train/BalanceBeam/v_BalanceBeam_g04_c03.avi\n",
            "/content/UCF101_subset/train/BalanceBeam/v_BalanceBeam_g05_c01.avi\n",
            "/content/UCF101_subset/train/BalanceBeam/v_BalanceBeam_g05_c03.avi\n",
            "/content/UCF101_subset/train/BalanceBeam/v_BalanceBeam_g06_c01.avi\n",
            "/content/UCF101_subset/train/BalanceBeam/v_BalanceBeam_g06_c03.avi\n",
            "/content/UCF101_subset/train/BalanceBeam/v_BalanceBeam_g06_c05.avi\n",
            "/content/UCF101_subset/train/BalanceBeam/v_BalanceBeam_g07_c02.avi\n",
            "/content/UCF101_subset/train/BalanceBeam/v_BalanceBeam_g08_c02.avi\n",
            "/content/UCF101_subset/train/BalanceBeam/v_BalanceBeam_g08_c04.avi\n",
            "/content/UCF101_subset/train/BalanceBeam/v_BalanceBeam_g09_c02.avi\n",
            "/content/UCF101_subset/train/BalanceBeam/v_BalanceBeam_g10_c02.avi\n",
            "/content/UCF101_subset/train/BalanceBeam/v_BalanceBeam_g10_c04.avi\n",
            "/content/UCF101_subset/train/BalanceBeam/v_BalanceBeam_g12_c04.avi\n",
            "/content/UCF101_subset/train/BalanceBeam/v_BalanceBeam_g14_c01.avi\n",
            "/content/UCF101_subset/train/BalanceBeam/v_BalanceBeam_g14_c03.avi\n",
            "/content/UCF101_subset/train/BalanceBeam/v_BalanceBeam_g15_c03.avi\n",
            "/content/UCF101_subset/train/BalanceBeam/v_BalanceBeam_g17_c01.avi\n",
            "/content/UCF101_subset/train/BalanceBeam/v_BalanceBeam_g18_c03.avi\n",
            "/content/UCF101_subset/train/BalanceBeam/v_BalanceBeam_g19_c01.avi\n",
            "/content/UCF101_subset/train/BalanceBeam/v_BalanceBeam_g19_c03.avi\n",
            "/content/UCF101_subset/train/BalanceBeam/v_BalanceBeam_g21_c03.avi\n",
            "/content/UCF101_subset/train/BalanceBeam/v_BalanceBeam_g21_c05.avi\n",
            "/content/UCF101_subset/train/BalanceBeam/v_BalanceBeam_g23_c04.avi\n",
            "/content/UCF101_subset/train/BalanceBeam/v_BalanceBeam_g24_c03.avi\n",
            "/content/UCF101_subset/train/BalanceBeam/v_BalanceBeam_g25_c01.avi\n",
            "/content/UCF101_subset/train/BandMarching/v_BandMarching_g01_c01.avi\n",
            "/content/UCF101_subset/train/BandMarching/v_BandMarching_g02_c02.avi\n",
            "/content/UCF101_subset/train/BandMarching/v_BandMarching_g02_c06.avi\n",
            "/content/UCF101_subset/train/BandMarching/v_BandMarching_g03_c01.avi\n",
            "/content/UCF101_subset/train/BandMarching/v_BandMarching_g03_c03.avi\n",
            "/content/UCF101_subset/train/BandMarching/v_BandMarching_g03_c05.avi\n",
            "/content/UCF101_subset/train/BandMarching/v_BandMarching_g04_c02.avi\n",
            "/content/UCF101_subset/train/BandMarching/v_BandMarching_g04_c04.avi\n",
            "/content/UCF101_subset/train/BandMarching/v_BandMarching_g06_c01.avi\n",
            "/content/UCF101_subset/train/BandMarching/v_BandMarching_g07_c03.avi\n",
            "/content/UCF101_subset/train/BandMarching/v_BandMarching_g07_c05.avi\n",
            "/content/UCF101_subset/train/BandMarching/v_BandMarching_g07_c07.avi\n",
            "/content/UCF101_subset/train/BandMarching/v_BandMarching_g08_c02.avi\n",
            "/content/UCF101_subset/train/BandMarching/v_BandMarching_g09_c03.avi\n",
            "/content/UCF101_subset/train/BandMarching/v_BandMarching_g09_c07.avi\n",
            "/content/UCF101_subset/train/BandMarching/v_BandMarching_g10_c02.avi\n",
            "/content/UCF101_subset/train/BandMarching/v_BandMarching_g10_c06.avi\n",
            "/content/UCF101_subset/train/BandMarching/v_BandMarching_g12_c02.avi\n",
            "/content/UCF101_subset/train/BandMarching/v_BandMarching_g13_c04.avi\n",
            "/content/UCF101_subset/train/BandMarching/v_BandMarching_g14_c05.avi\n",
            "/content/UCF101_subset/train/BandMarching/v_BandMarching_g15_c05.avi\n",
            "/content/UCF101_subset/train/BandMarching/v_BandMarching_g16_c06.avi\n",
            "/content/UCF101_subset/train/BandMarching/v_BandMarching_g18_c03.avi\n",
            "/content/UCF101_subset/train/BandMarching/v_BandMarching_g19_c03.avi\n",
            "/content/UCF101_subset/train/BandMarching/v_BandMarching_g19_c05.avi\n",
            "/content/UCF101_subset/train/BandMarching/v_BandMarching_g21_c02.avi\n",
            "/content/UCF101_subset/train/BandMarching/v_BandMarching_g21_c06.avi\n",
            "/content/UCF101_subset/train/BandMarching/v_BandMarching_g24_c01.avi\n",
            "/content/UCF101_subset/train/BandMarching/v_BandMarching_g25_c05.avi\n",
            "/content/UCF101_subset/train/BandMarching/v_BandMarching_g25_c07.avi\n",
            "/content/UCF101_subset/train/BaseballPitch/v_BaseballPitch_g01_c02.avi\n",
            "/content/UCF101_subset/train/BaseballPitch/v_BaseballPitch_g01_c04.avi\n",
            "/content/UCF101_subset/train/BaseballPitch/v_BaseballPitch_g02_c02.avi\n",
            "/content/UCF101_subset/train/BaseballPitch/v_BaseballPitch_g02_c04.avi\n",
            "/content/UCF101_subset/train/BaseballPitch/v_BaseballPitch_g03_c02.avi\n",
            "/content/UCF101_subset/train/BaseballPitch/v_BaseballPitch_g03_c04.avi\n",
            "/content/UCF101_subset/train/BaseballPitch/v_BaseballPitch_g04_c01.avi\n",
            "/content/UCF101_subset/train/BaseballPitch/v_BaseballPitch_g05_c06.avi\n",
            "/content/UCF101_subset/train/BaseballPitch/v_BaseballPitch_g06_c05.avi\n",
            "/content/UCF101_subset/train/BaseballPitch/v_BaseballPitch_g06_c07.avi\n",
            "/content/UCF101_subset/train/BaseballPitch/v_BaseballPitch_g08_c01.avi\n",
            "/content/UCF101_subset/train/BaseballPitch/v_BaseballPitch_g08_c05.avi\n",
            "/content/UCF101_subset/train/BaseballPitch/v_BaseballPitch_g08_c07.avi\n",
            "/content/UCF101_subset/train/BaseballPitch/v_BaseballPitch_g10_c03.avi\n",
            "/content/UCF101_subset/train/BaseballPitch/v_BaseballPitch_g13_c03.avi\n",
            "/content/UCF101_subset/train/BaseballPitch/v_BaseballPitch_g13_c05.avi\n",
            "/content/UCF101_subset/train/BaseballPitch/v_BaseballPitch_g13_c07.avi\n",
            "/content/UCF101_subset/train/BaseballPitch/v_BaseballPitch_g14_c02.avi\n",
            "/content/UCF101_subset/train/BaseballPitch/v_BaseballPitch_g14_c04.avi\n",
            "/content/UCF101_subset/train/BaseballPitch/v_BaseballPitch_g15_c06.avi\n",
            "/content/UCF101_subset/train/BaseballPitch/v_BaseballPitch_g16_c03.avi\n",
            "/content/UCF101_subset/train/BaseballPitch/v_BaseballPitch_g17_c05.avi\n",
            "/content/UCF101_subset/train/BaseballPitch/v_BaseballPitch_g18_c04.avi\n",
            "/content/UCF101_subset/train/BaseballPitch/v_BaseballPitch_g18_c06.avi\n",
            "/content/UCF101_subset/train/BaseballPitch/v_BaseballPitch_g19_c03.avi\n",
            "/content/UCF101_subset/train/BaseballPitch/v_BaseballPitch_g19_c05.avi\n",
            "/content/UCF101_subset/train/BaseballPitch/v_BaseballPitch_g21_c02.avi\n",
            "/content/UCF101_subset/train/BaseballPitch/v_BaseballPitch_g23_c01.avi\n",
            "/content/UCF101_subset/train/BaseballPitch/v_BaseballPitch_g23_c03.avi\n",
            "/content/UCF101_subset/train/BaseballPitch/v_BaseballPitch_g25_c01.avi\n",
            "/content/UCF101_subset/train/Basketball/v_Basketball_g01_c01.avi\n",
            "/content/UCF101_subset/train/Basketball/v_Basketball_g01_c03.avi\n",
            "/content/UCF101_subset/train/Basketball/v_Basketball_g01_c05.avi\n",
            "/content/UCF101_subset/train/Basketball/v_Basketball_g01_c07.avi\n",
            "/content/UCF101_subset/train/Basketball/v_Basketball_g03_c04.avi\n",
            "/content/UCF101_subset/train/Basketball/v_Basketball_g03_c06.avi\n",
            "/content/UCF101_subset/train/Basketball/v_Basketball_g04_c02.avi\n",
            "/content/UCF101_subset/train/Basketball/v_Basketball_g04_c04.avi\n",
            "/content/UCF101_subset/train/Basketball/v_Basketball_g07_c02.avi\n",
            "/content/UCF101_subset/train/Basketball/v_Basketball_g08_c04.avi\n",
            "/content/UCF101_subset/train/Basketball/v_Basketball_g09_c02.avi\n",
            "/content/UCF101_subset/train/Basketball/v_Basketball_g09_c04.avi\n",
            "/content/UCF101_subset/train/Basketball/v_Basketball_g11_c02.avi\n",
            "/content/UCF101_subset/train/Basketball/v_Basketball_g12_c01.avi\n",
            "/content/UCF101_subset/train/Basketball/v_Basketball_g13_c02.avi\n",
            "/content/UCF101_subset/train/Basketball/v_Basketball_g13_c04.avi\n",
            "/content/UCF101_subset/train/Basketball/v_Basketball_g14_c02.avi\n",
            "/content/UCF101_subset/train/Basketball/v_Basketball_g14_c04.avi\n",
            "/content/UCF101_subset/train/Basketball/v_Basketball_g15_c01.avi\n",
            "/content/UCF101_subset/train/Basketball/v_Basketball_g15_c07.avi\n",
            "/content/UCF101_subset/train/Basketball/v_Basketball_g16_c02.avi\n",
            "/content/UCF101_subset/train/Basketball/v_Basketball_g16_c06.avi\n",
            "/content/UCF101_subset/train/Basketball/v_Basketball_g17_c04.avi\n",
            "/content/UCF101_subset/train/Basketball/v_Basketball_g19_c05.avi\n",
            "/content/UCF101_subset/train/Basketball/v_Basketball_g19_c07.avi\n",
            "/content/UCF101_subset/train/Basketball/v_Basketball_g21_c03.avi\n",
            "/content/UCF101_subset/train/Basketball/v_Basketball_g22_c05.avi\n",
            "/content/UCF101_subset/train/Basketball/v_Basketball_g23_c04.avi\n",
            "/content/UCF101_subset/train/Basketball/v_Basketball_g23_c06.avi\n",
            "/content/UCF101_subset/train/Basketball/v_Basketball_g25_c02.avi\n",
            "/content/UCF101_subset/train/BasketballDunk/v_BasketballDunk_g01_c02.avi\n",
            "/content/UCF101_subset/train/BasketballDunk/v_BasketballDunk_g01_c04.avi\n",
            "/content/UCF101_subset/train/BasketballDunk/v_BasketballDunk_g02_c03.avi\n",
            "/content/UCF101_subset/train/BasketballDunk/v_BasketballDunk_g03_c03.avi\n",
            "/content/UCF101_subset/train/BasketballDunk/v_BasketballDunk_g04_c01.avi\n",
            "/content/UCF101_subset/train/BasketballDunk/v_BasketballDunk_g06_c01.avi\n",
            "/content/UCF101_subset/train/BasketballDunk/v_BasketballDunk_g07_c03.avi\n",
            "/content/UCF101_subset/train/BasketballDunk/v_BasketballDunk_g07_c05.avi\n",
            "/content/UCF101_subset/train/BasketballDunk/v_BasketballDunk_g08_c05.avi\n",
            "/content/UCF101_subset/train/BasketballDunk/v_BasketballDunk_g09_c02.avi\n",
            "/content/UCF101_subset/train/BasketballDunk/v_BasketballDunk_g10_c01.avi\n",
            "/content/UCF101_subset/train/BasketballDunk/v_BasketballDunk_g11_c04.avi\n",
            "/content/UCF101_subset/train/BasketballDunk/v_BasketballDunk_g13_c02.avi\n",
            "/content/UCF101_subset/train/BasketballDunk/v_BasketballDunk_g15_c01.avi\n",
            "/content/UCF101_subset/train/BasketballDunk/v_BasketballDunk_g15_c03.avi\n",
            "/content/UCF101_subset/train/BasketballDunk/v_BasketballDunk_g15_c05.avi\n",
            "/content/UCF101_subset/train/BasketballDunk/v_BasketballDunk_g16_c02.avi\n",
            "/content/UCF101_subset/train/BasketballDunk/v_BasketballDunk_g16_c04.avi\n",
            "/content/UCF101_subset/train/BasketballDunk/v_BasketballDunk_g16_c06.avi\n",
            "/content/UCF101_subset/train/BasketballDunk/v_BasketballDunk_g17_c02.avi\n",
            "/content/UCF101_subset/train/BasketballDunk/v_BasketballDunk_g18_c05.avi\n",
            "/content/UCF101_subset/train/BasketballDunk/v_BasketballDunk_g19_c03.avi\n",
            "/content/UCF101_subset/train/BasketballDunk/v_BasketballDunk_g20_c05.avi\n",
            "/content/UCF101_subset/train/BasketballDunk/v_BasketballDunk_g21_c01.avi\n",
            "/content/UCF101_subset/train/BasketballDunk/v_BasketballDunk_g21_c03.avi\n",
            "/content/UCF101_subset/train/BasketballDunk/v_BasketballDunk_g22_c03.avi\n",
            "/content/UCF101_subset/train/BasketballDunk/v_BasketballDunk_g23_c01.avi\n",
            "/content/UCF101_subset/train/BasketballDunk/v_BasketballDunk_g23_c05.avi\n",
            "/content/UCF101_subset/train/BasketballDunk/v_BasketballDunk_g24_c04.avi\n",
            "/content/UCF101_subset/train/BasketballDunk/v_BasketballDunk_g25_c01.avi\n",
            "/content/UCF101_subset/train/BenchPress/v_BenchPress_g01_c05.avi\n",
            "/content/UCF101_subset/train/BenchPress/v_BenchPress_g02_c01.avi\n",
            "/content/UCF101_subset/train/BenchPress/v_BenchPress_g02_c03.avi\n",
            "/content/UCF101_subset/train/BenchPress/v_BenchPress_g03_c02.avi\n",
            "/content/UCF101_subset/train/BenchPress/v_BenchPress_g03_c04.avi\n",
            "/content/UCF101_subset/train/BenchPress/v_BenchPress_g03_c06.avi\n",
            "/content/UCF101_subset/train/BenchPress/v_BenchPress_g04_c01.avi\n",
            "/content/UCF101_subset/train/BenchPress/v_BenchPress_g04_c05.avi\n",
            "/content/UCF101_subset/train/BenchPress/v_BenchPress_g06_c01.avi\n",
            "/content/UCF101_subset/train/BenchPress/v_BenchPress_g06_c05.avi\n",
            "/content/UCF101_subset/train/BenchPress/v_BenchPress_g07_c02.avi\n",
            "/content/UCF101_subset/train/BenchPress/v_BenchPress_g07_c04.avi\n",
            "/content/UCF101_subset/train/BenchPress/v_BenchPress_g08_c05.avi\n",
            "/content/UCF101_subset/train/BenchPress/v_BenchPress_g10_c03.avi\n",
            "/content/UCF101_subset/train/BenchPress/v_BenchPress_g12_c06.avi\n",
            "/content/UCF101_subset/train/BenchPress/v_BenchPress_g13_c01.avi\n",
            "/content/UCF101_subset/train/BenchPress/v_BenchPress_g13_c05.avi\n",
            "/content/UCF101_subset/train/BenchPress/v_BenchPress_g13_c07.avi\n",
            "/content/UCF101_subset/train/BenchPress/v_BenchPress_g14_c02.avi\n",
            "/content/UCF101_subset/train/BenchPress/v_BenchPress_g15_c05.avi\n",
            "/content/UCF101_subset/train/BenchPress/v_BenchPress_g16_c05.avi\n",
            "/content/UCF101_subset/train/BenchPress/v_BenchPress_g18_c03.avi\n",
            "/content/UCF101_subset/train/BenchPress/v_BenchPress_g19_c06.avi\n",
            "/content/UCF101_subset/train/BenchPress/v_BenchPress_g20_c04.avi\n",
            "/content/UCF101_subset/train/BenchPress/v_BenchPress_g21_c01.avi\n",
            "/content/UCF101_subset/train/BenchPress/v_BenchPress_g21_c03.avi\n",
            "/content/UCF101_subset/train/BenchPress/v_BenchPress_g22_c01.avi\n",
            "/content/UCF101_subset/train/BenchPress/v_BenchPress_g22_c03.avi\n",
            "/content/UCF101_subset/train/BenchPress/v_BenchPress_g23_c02.avi\n",
            "/content/UCF101_subset/train/BenchPress/v_BenchPress_g24_c05.avi\n",
            "/content/UCF101_subset/val/ApplyEyeMakeup/v_ApplyEyeMakeup_g01_c01.avi\n",
            "/content/UCF101_subset/val/ApplyEyeMakeup/v_ApplyEyeMakeup_g14_c05.avi\n",
            "/content/UCF101_subset/val/ApplyEyeMakeup/v_ApplyEyeMakeup_g20_c04.avi\n",
            "/content/UCF101_subset/val/ApplyLipstick/v_ApplyLipstick_g10_c04.avi\n",
            "/content/UCF101_subset/val/ApplyLipstick/v_ApplyLipstick_g20_c04.avi\n",
            "/content/UCF101_subset/val/ApplyLipstick/v_ApplyLipstick_g25_c02.avi\n",
            "/content/UCF101_subset/val/Archery/v_Archery_g12_c03.avi\n",
            "/content/UCF101_subset/val/Archery/v_Archery_g18_c02.avi\n",
            "/content/UCF101_subset/val/Archery/v_Archery_g18_c06.avi\n",
            "/content/UCF101_subset/val/BabyCrawling/v_BabyCrawling_g09_c06.avi\n",
            "/content/UCF101_subset/val/BabyCrawling/v_BabyCrawling_g13_c05.avi\n",
            "/content/UCF101_subset/val/BabyCrawling/v_BabyCrawling_g21_c04.avi\n",
            "/content/UCF101_subset/val/BalanceBeam/v_BalanceBeam_g13_c02.avi\n",
            "/content/UCF101_subset/val/BalanceBeam/v_BalanceBeam_g16_c01.avi\n",
            "/content/UCF101_subset/val/BalanceBeam/v_BalanceBeam_g22_c02.avi\n",
            "/content/UCF101_subset/val/BandMarching/v_BandMarching_g17_c01.avi\n",
            "/content/UCF101_subset/val/BandMarching/v_BandMarching_g20_c04.avi\n",
            "/content/UCF101_subset/val/BandMarching/v_BandMarching_g23_c03.avi\n",
            "/content/UCF101_subset/val/BaseballPitch/v_BaseballPitch_g07_c02.avi\n",
            "/content/UCF101_subset/val/BaseballPitch/v_BaseballPitch_g09_c02.avi\n",
            "/content/UCF101_subset/val/BaseballPitch/v_BaseballPitch_g12_c01.avi\n",
            "/content/UCF101_subset/val/Basketball/v_Basketball_g10_c03.avi\n",
            "/content/UCF101_subset/val/Basketball/v_Basketball_g20_c02.avi\n",
            "/content/UCF101_subset/val/Basketball/v_Basketball_g20_c04.avi\n",
            "/content/UCF101_subset/val/BasketballDunk/v_BasketballDunk_g05_c01.avi\n",
            "/content/UCF101_subset/val/BasketballDunk/v_BasketballDunk_g05_c03.avi\n",
            "/content/UCF101_subset/val/BasketballDunk/v_BasketballDunk_g05_c05.avi\n",
            "/content/UCF101_subset/val/BenchPress/v_BenchPress_g11_c05.avi\n",
            "/content/UCF101_subset/val/BenchPress/v_BenchPress_g17_c02.avi\n",
            "/content/UCF101_subset/val/BenchPress/v_BenchPress_g17_c06.avi\n",
            "/content/UCF101_subset/test/ApplyEyeMakeup/v_ApplyEyeMakeup_g03_c01.avi\n",
            "/content/UCF101_subset/test/ApplyEyeMakeup/v_ApplyEyeMakeup_g03_c03.avi\n",
            "/content/UCF101_subset/test/ApplyEyeMakeup/v_ApplyEyeMakeup_g03_c05.avi\n",
            "/content/UCF101_subset/test/ApplyEyeMakeup/v_ApplyEyeMakeup_g23_c02.avi\n",
            "/content/UCF101_subset/test/ApplyEyeMakeup/v_ApplyEyeMakeup_g23_c04.avi\n",
            "/content/UCF101_subset/test/ApplyEyeMakeup/v_ApplyEyeMakeup_g23_c06.avi\n",
            "/content/UCF101_subset/test/ApplyLipstick/v_ApplyLipstick_g14_c01.avi\n",
            "/content/UCF101_subset/test/ApplyLipstick/v_ApplyLipstick_g14_c03.avi\n",
            "/content/UCF101_subset/test/ApplyLipstick/v_ApplyLipstick_g16_c02.avi\n",
            "/content/UCF101_subset/test/ApplyLipstick/v_ApplyLipstick_g16_c04.avi\n",
            "/content/UCF101_subset/test/Archery/v_Archery_g16_c01.avi\n",
            "/content/UCF101_subset/test/Archery/v_Archery_g16_c03.avi\n",
            "/content/UCF101_subset/test/Archery/v_Archery_g16_c05.avi\n",
            "/content/UCF101_subset/test/Archery/v_Archery_g17_c02.avi\n",
            "/content/UCF101_subset/test/Archery/v_Archery_g17_c04.avi\n",
            "/content/UCF101_subset/test/Archery/v_Archery_g21_c02.avi\n",
            "/content/UCF101_subset/test/Archery/v_Archery_g21_c04.avi\n",
            "/content/UCF101_subset/test/BabyCrawling/v_BabyCrawling_g03_c01.avi\n",
            "/content/UCF101_subset/test/BabyCrawling/v_BabyCrawling_g03_c03.avi\n",
            "/content/UCF101_subset/test/BabyCrawling/v_BabyCrawling_g04_c01.avi\n",
            "/content/UCF101_subset/test/BabyCrawling/v_BabyCrawling_g04_c03.avi\n",
            "/content/UCF101_subset/test/BabyCrawling/v_BabyCrawling_g19_c02.avi\n",
            "/content/UCF101_subset/test/BabyCrawling/v_BabyCrawling_g19_c04.avi\n",
            "/content/UCF101_subset/test/BabyCrawling/v_BabyCrawling_g22_c02.avi\n",
            "/content/UCF101_subset/test/BabyCrawling/v_BabyCrawling_g22_c04.avi\n",
            "/content/UCF101_subset/test/BabyCrawling/v_BabyCrawling_g22_c06.avi\n",
            "/content/UCF101_subset/test/BalanceBeam/v_BalanceBeam_g11_c02.avi\n",
            "/content/UCF101_subset/test/BalanceBeam/v_BalanceBeam_g11_c04.avi\n",
            "/content/UCF101_subset/test/BalanceBeam/v_BalanceBeam_g20_c01.avi\n",
            "/content/UCF101_subset/test/BalanceBeam/v_BalanceBeam_g20_c03.avi\n",
            "/content/UCF101_subset/test/BandMarching/v_BandMarching_g05_c02.avi\n",
            "/content/UCF101_subset/test/BandMarching/v_BandMarching_g05_c04.avi\n",
            "/content/UCF101_subset/test/BandMarching/v_BandMarching_g05_c06.avi\n",
            "/content/UCF101_subset/test/BandMarching/v_BandMarching_g11_c01.avi\n",
            "/content/UCF101_subset/test/BandMarching/v_BandMarching_g11_c03.avi\n",
            "/content/UCF101_subset/test/BandMarching/v_BandMarching_g11_c05.avi\n",
            "/content/UCF101_subset/test/BandMarching/v_BandMarching_g11_c07.avi\n",
            "/content/UCF101_subset/test/BandMarching/v_BandMarching_g22_c02.avi\n",
            "/content/UCF101_subset/test/BandMarching/v_BandMarching_g22_c04.avi\n",
            "/content/UCF101_subset/test/BaseballPitch/v_BaseballPitch_g11_c02.avi\n",
            "/content/UCF101_subset/test/BaseballPitch/v_BaseballPitch_g11_c04.avi\n",
            "/content/UCF101_subset/test/BaseballPitch/v_BaseballPitch_g20_c02.avi\n",
            "/content/UCF101_subset/test/BaseballPitch/v_BaseballPitch_g20_c04.avi\n",
            "/content/UCF101_subset/test/BaseballPitch/v_BaseballPitch_g22_c02.avi\n",
            "/content/UCF101_subset/test/BaseballPitch/v_BaseballPitch_g22_c04.avi\n",
            "/content/UCF101_subset/test/BaseballPitch/v_BaseballPitch_g22_c06.avi\n",
            "/content/UCF101_subset/test/BaseballPitch/v_BaseballPitch_g24_c02.avi\n",
            "/content/UCF101_subset/test/BaseballPitch/v_BaseballPitch_g24_c04.avi\n",
            "/content/UCF101_subset/test/BaseballPitch/v_BaseballPitch_g24_c06.avi\n",
            "/content/UCF101_subset/test/Basketball/v_Basketball_g02_c02.avi\n",
            "/content/UCF101_subset/test/Basketball/v_Basketball_g02_c04.avi\n",
            "/content/UCF101_subset/test/Basketball/v_Basketball_g02_c06.avi\n",
            "/content/UCF101_subset/test/Basketball/v_Basketball_g05_c02.avi\n",
            "/content/UCF101_subset/test/Basketball/v_Basketball_g05_c04.avi\n",
            "/content/UCF101_subset/test/Basketball/v_Basketball_g06_c02.avi\n",
            "/content/UCF101_subset/test/Basketball/v_Basketball_g06_c04.avi\n",
            "/content/UCF101_subset/test/Basketball/v_Basketball_g18_c02.avi\n",
            "/content/UCF101_subset/test/Basketball/v_Basketball_g18_c04.avi\n",
            "/content/UCF101_subset/test/Basketball/v_Basketball_g24_c02.avi\n",
            "/content/UCF101_subset/test/Basketball/v_Basketball_g24_c04.avi\n",
            "/content/UCF101_subset/test/BasketballDunk/v_BasketballDunk_g12_c01.avi\n",
            "/content/UCF101_subset/test/BasketballDunk/v_BasketballDunk_g12_c03.avi\n",
            "/content/UCF101_subset/test/BasketballDunk/v_BasketballDunk_g12_c05.avi\n",
            "/content/UCF101_subset/test/BasketballDunk/v_BasketballDunk_g14_c02.avi\n",
            "/content/UCF101_subset/test/BasketballDunk/v_BasketballDunk_g14_c04.avi\n",
            "/content/UCF101_subset/test/BasketballDunk/v_BasketballDunk_g14_c06.avi\n",
            "/content/UCF101_subset/test/BenchPress/v_BenchPress_g05_c02.avi\n",
            "/content/UCF101_subset/test/BenchPress/v_BenchPress_g05_c04.avi\n",
            "/content/UCF101_subset/test/BenchPress/v_BenchPress_g05_c06.avi\n",
            "/content/UCF101_subset/test/BenchPress/v_BenchPress_g09_c02.avi\n",
            "/content/UCF101_subset/test/BenchPress/v_BenchPress_g09_c04.avi\n",
            "/content/UCF101_subset/test/BenchPress/v_BenchPress_g09_c06.avi\n",
            "/content/UCF101_subset/test/BenchPress/v_BenchPress_g25_c02.avi\n",
            "/content/UCF101_subset/test/BenchPress/v_BenchPress_g25_c04.avi\n",
            "/content/UCF101_subset/test/BenchPress/v_BenchPress_g25_c06.avi\n"
          ]
        }
      ]
    },
    {
      "cell_type": "code",
      "execution_count": null,
      "metadata": {
        "id": "xQe9e-bRWusl",
        "outputId": "21e7cd18-7215-4e56-feb3-910b593f9cd1",
        "colab": {
          "base_uri": "https://localhost:8080/"
        }
      },
      "outputs": [
        {
          "output_type": "stream",
          "name": "stdout",
          "text": [
            "Unique classes: ['ApplyEyeMakeup', 'ApplyLipstick', 'Archery', 'BabyCrawling', 'BalanceBeam', 'BandMarching', 'BaseballPitch', 'Basketball', 'BasketballDunk', 'BenchPress'].\n"
          ]
        }
      ],
      "source": [
        "class_labels = sorted({str(path).split(\"/\")[4] for path in all_video_file_paths})\n",
        "label2id = {label: i for i, label in enumerate(class_labels)}\n",
        "id2label = {i: label for label, i in label2id.items()}\n",
        "\n",
        "print(f\"Unique classes: {list(label2id.keys())}.\")"
      ]
    },
    {
      "cell_type": "code",
      "source": [
        "label2id"
      ],
      "metadata": {
        "colab": {
          "base_uri": "https://localhost:8080/"
        },
        "id": "K3_PLOjpbVNE",
        "outputId": "74c2b939-4c6e-4688-8476-af884e3908e9"
      },
      "execution_count": null,
      "outputs": [
        {
          "output_type": "execute_result",
          "data": {
            "text/plain": [
              "{'ApplyEyeMakeup': 0,\n",
              " 'ApplyLipstick': 1,\n",
              " 'Archery': 2,\n",
              " 'BabyCrawling': 3,\n",
              " 'BalanceBeam': 4,\n",
              " 'BandMarching': 5,\n",
              " 'BaseballPitch': 6,\n",
              " 'Basketball': 7,\n",
              " 'BasketballDunk': 8,\n",
              " 'BenchPress': 9}"
            ]
          },
          "metadata": {},
          "execution_count": 31
        }
      ]
    },
    {
      "cell_type": "code",
      "source": [
        "id2label"
      ],
      "metadata": {
        "colab": {
          "base_uri": "https://localhost:8080/"
        },
        "id": "okVRGzU6ba1B",
        "outputId": "5645575e-1298-4622-ea0f-6ff9a5a8cf53"
      },
      "execution_count": null,
      "outputs": [
        {
          "output_type": "execute_result",
          "data": {
            "text/plain": [
              "{0: 'ApplyEyeMakeup',\n",
              " 1: 'ApplyLipstick',\n",
              " 2: 'Archery',\n",
              " 3: 'BabyCrawling',\n",
              " 4: 'BalanceBeam',\n",
              " 5: 'BandMarching',\n",
              " 6: 'BaseballPitch',\n",
              " 7: 'Basketball',\n",
              " 8: 'BasketballDunk',\n",
              " 9: 'BenchPress'}"
            ]
          },
          "metadata": {},
          "execution_count": 32
        }
      ]
    },
    {
      "cell_type": "markdown",
      "metadata": {
        "id": "wxSIXIprWusn"
      },
      "source": [
        "There are 10 unique classes. For each class, there are 30 videos in the training set."
      ]
    },
    {
      "cell_type": "markdown",
      "metadata": {
        "id": "TnP9OwaxWuso"
      },
      "source": [
        "## Load a model to fine-tune"
      ]
    },
    {
      "cell_type": "markdown",
      "metadata": {
        "id": "sqVgvuxaWusp"
      },
      "source": [
        "Instantiate a video classification model from a pretrained checkpoint and its associated image processor. The model's encoder comes with pre-trained parameters, and the classification head is randomly initialized. The image processor will come in handy when writing the preprocessing pipeline for our dataset."
      ]
    },
    {
      "cell_type": "code",
      "execution_count": null,
      "metadata": {
        "id": "c2VWv-3EWusp",
        "colab": {
          "base_uri": "https://localhost:8080/",
          "height": 220,
          "referenced_widgets": [
            "1ae160dd677048b89414b687d027a877",
            "4946ef237f7746a8836c16132fa33bf2",
            "de4050b4ded6470c809e7339aa9f2e12",
            "f17b5d194da14272bb99b08530853cd6",
            "dc630200abae455e9efc19ea77e2d95a",
            "85e16a634a4d4011b81579dca5427bec",
            "0963fe89302d4652abdb908133c5f3fc",
            "29b547b5c44b411e94fff78f24e8265c",
            "65594bc367f747c3bdd1f59a5edcd941",
            "213cbd0cfb35448fb13893e126771ef7",
            "07304763ccd147709c484650c11ced55",
            "719b7379602e4901be22cb3b04cb39d7",
            "c4d37e4268514c29b4f5bba71c5b047f",
            "bcd0a8b61b964cceb0f3d89cb69f32c7",
            "afbb270e09114d26b425180799f617d9",
            "64dcc076b8a143629865229d70b2c458",
            "8ebc7e95c88e4391a3e6b67468be318a",
            "e74a0abc144443a794530d8298eef970",
            "efeb0d20250148df907e069bc399971d",
            "32191ce604fe42f19db66c587e119785",
            "a6671c41fc7545d8921c661e4f628aaf",
            "db0e65c627b8443ebe65302b61c64009",
            "d022a93bf9394baabfb74b554f41658f",
            "45850532b3fa43cfa6273851eefd710d",
            "a6828c4d325540a29c838f6b4aa8f3d6",
            "f188191e4ed9466bbce6a995efb31159",
            "b1e09334cb5e4eb98f00d1aebb62a8e5",
            "ce184e38966e44138560d42fc7296a22",
            "9f556855e6974dd7ad9563ce3bf40866",
            "e5514334bb32425abcd45023048a6ca7",
            "cafd9a17c5684c13b8733c7b414f12cd",
            "f0b3619796524f78acd2cb50a8b56009",
            "85e1b833d04f4da19bc4de6ab21426ce"
          ]
        },
        "outputId": "c004f4da-f757-4a71-acb6-6e3d72331242"
      },
      "outputs": [
        {
          "output_type": "display_data",
          "data": {
            "text/plain": [
              "Downloading (…)rocessor_config.json:   0%|          | 0.00/271 [00:00<?, ?B/s]"
            ],
            "application/vnd.jupyter.widget-view+json": {
              "version_major": 2,
              "version_minor": 0,
              "model_id": "1ae160dd677048b89414b687d027a877"
            }
          },
          "metadata": {}
        },
        {
          "output_type": "display_data",
          "data": {
            "text/plain": [
              "Downloading (…)lve/main/config.json:   0%|          | 0.00/725 [00:00<?, ?B/s]"
            ],
            "application/vnd.jupyter.widget-view+json": {
              "version_major": 2,
              "version_minor": 0,
              "model_id": "719b7379602e4901be22cb3b04cb39d7"
            }
          },
          "metadata": {}
        },
        {
          "output_type": "display_data",
          "data": {
            "text/plain": [
              "Downloading pytorch_model.bin:   0%|          | 0.00/377M [00:00<?, ?B/s]"
            ],
            "application/vnd.jupyter.widget-view+json": {
              "version_major": 2,
              "version_minor": 0,
              "model_id": "d022a93bf9394baabfb74b554f41658f"
            }
          },
          "metadata": {}
        },
        {
          "output_type": "stream",
          "name": "stderr",
          "text": [
            "Some weights of the model checkpoint at MCG-NJU/videomae-base were not used when initializing VideoMAEForVideoClassification: ['decoder.decoder_layers.1.layernorm_after.bias', 'mask_token', 'decoder.decoder_layers.3.layernorm_before.weight', 'decoder.decoder_layers.1.output.dense.bias', 'decoder.decoder_layers.2.attention.output.dense.weight', 'decoder.decoder_layers.0.layernorm_after.weight', 'decoder.decoder_layers.3.output.dense.weight', 'decoder.decoder_layers.0.layernorm_before.bias', 'decoder.decoder_layers.2.intermediate.dense.weight', 'decoder.decoder_layers.1.attention.attention.q_bias', 'decoder.decoder_layers.0.output.dense.bias', 'decoder.decoder_layers.2.attention.attention.key.weight', 'decoder.decoder_layers.2.layernorm_after.weight', 'decoder.decoder_layers.3.attention.attention.v_bias', 'decoder.decoder_layers.1.attention.attention.query.weight', 'decoder.decoder_layers.0.attention.output.dense.weight', 'decoder.norm.bias', 'decoder.decoder_layers.3.layernorm_after.bias', 'decoder.decoder_layers.0.attention.attention.key.weight', 'decoder.decoder_layers.1.attention.attention.key.weight', 'decoder.decoder_layers.3.attention.output.dense.weight', 'decoder.decoder_layers.0.layernorm_after.bias', 'decoder.decoder_layers.3.attention.output.dense.bias', 'decoder.decoder_layers.2.attention.output.dense.bias', 'decoder.decoder_layers.1.attention.output.dense.bias', 'decoder.decoder_layers.3.intermediate.dense.weight', 'decoder.decoder_layers.3.attention.attention.value.weight', 'decoder.norm.weight', 'decoder.decoder_layers.0.attention.output.dense.bias', 'decoder.decoder_layers.2.attention.attention.value.weight', 'decoder.decoder_layers.0.attention.attention.v_bias', 'decoder.decoder_layers.2.layernorm_after.bias', 'decoder.decoder_layers.1.attention.attention.value.weight', 'decoder.decoder_layers.1.output.dense.weight', 'decoder.decoder_layers.2.attention.attention.query.weight', 'decoder.decoder_layers.2.layernorm_before.weight', 'decoder.decoder_layers.3.layernorm_after.weight', 'decoder.decoder_layers.0.intermediate.dense.weight', 'decoder.decoder_layers.3.layernorm_before.bias', 'decoder.decoder_layers.0.layernorm_before.weight', 'decoder.decoder_layers.3.intermediate.dense.bias', 'decoder.decoder_layers.1.layernorm_before.bias', 'decoder.decoder_layers.2.attention.attention.q_bias', 'decoder.decoder_layers.2.layernorm_before.bias', 'decoder.decoder_layers.1.attention.attention.v_bias', 'decoder.decoder_layers.3.attention.attention.key.weight', 'decoder.head.weight', 'decoder.decoder_layers.0.attention.attention.value.weight', 'decoder.decoder_layers.1.layernorm_before.weight', 'decoder.decoder_layers.1.layernorm_after.weight', 'decoder.decoder_layers.2.output.dense.weight', 'decoder.decoder_layers.3.attention.attention.q_bias', 'decoder.head.bias', 'decoder.decoder_layers.3.attention.attention.query.weight', 'decoder.decoder_layers.1.intermediate.dense.weight', 'decoder.decoder_layers.2.output.dense.bias', 'decoder.decoder_layers.0.intermediate.dense.bias', 'decoder.decoder_layers.1.attention.output.dense.weight', 'decoder.decoder_layers.2.intermediate.dense.bias', 'decoder.decoder_layers.0.attention.attention.query.weight', 'encoder_to_decoder.weight', 'decoder.decoder_layers.2.attention.attention.v_bias', 'decoder.decoder_layers.1.intermediate.dense.bias', 'decoder.decoder_layers.0.attention.attention.q_bias', 'decoder.decoder_layers.0.output.dense.weight', 'decoder.decoder_layers.3.output.dense.bias']\n",
            "- This IS expected if you are initializing VideoMAEForVideoClassification from the checkpoint of a model trained on another task or with another architecture (e.g. initializing a BertForSequenceClassification model from a BertForPreTraining model).\n",
            "- This IS NOT expected if you are initializing VideoMAEForVideoClassification from the checkpoint of a model that you expect to be exactly identical (initializing a BertForSequenceClassification model from a BertForSequenceClassification model).\n",
            "Some weights of VideoMAEForVideoClassification were not initialized from the model checkpoint at MCG-NJU/videomae-base and are newly initialized: ['classifier.weight', 'classifier.bias']\n",
            "You should probably TRAIN this model on a down-stream task to be able to use it for predictions and inference.\n"
          ]
        }
      ],
      "source": [
        "from transformers import VideoMAEImageProcessor, VideoMAEForVideoClassification\n",
        "\n",
        "model_ckpt = \"MCG-NJU/videomae-base\"\n",
        "image_processor = VideoMAEImageProcessor.from_pretrained(model_ckpt)\n",
        "model = VideoMAEForVideoClassification.from_pretrained(\n",
        "    model_ckpt,\n",
        "    label2id=label2id,\n",
        "    id2label=id2label,\n",
        "    ignore_mismatched_sizes=True,  # provide this in case you're planning to fine-tune an already fine-tuned checkpoint\n",
        ")"
      ]
    },
    {
      "cell_type": "markdown",
      "metadata": {
        "id": "A5ABEXe2Wusr"
      },
      "source": [
        "## Prepare the datasets for training"
      ]
    },
    {
      "cell_type": "code",
      "execution_count": null,
      "metadata": {
        "id": "0T8wveYVWuss"
      },
      "outputs": [],
      "source": [
        "import pytorchvideo.data\n",
        "\n",
        "from pytorchvideo.transforms import (\n",
        "    ApplyTransformToKey,\n",
        "    Normalize,\n",
        "    RandomShortSideScale,\n",
        "    RemoveKey,\n",
        "    ShortSideScale,\n",
        "    UniformTemporalSubsample,\n",
        ")\n",
        "\n",
        "from torchvision.transforms import (\n",
        "    Compose,\n",
        "    Lambda,\n",
        "    RandomCrop,\n",
        "    RandomHorizontalFlip,\n",
        "    Resize,\n",
        ")"
      ]
    },
    {
      "cell_type": "markdown",
      "metadata": {
        "id": "HwmfOcQaWust"
      },
      "source": [
        "For the training dataset transformations, use a combination of uniform temporal subsampling, pixel normalization, random cropping, and random horizontal flipping. For the validation and evaluation dataset transformations, keep the same transformation chain except for random cropping and horizontal flipping. \n",
        "\n",
        "Use the `image_processor` associated with the pre-trained model to obtain the following information:\n",
        "\n",
        "* Image mean and standard deviation with which the video frame pixels will be normalized.\n",
        "* Spatial resolution to which the video frames will be resized.\n",
        "\n",
        "Start by defining some constants."
      ]
    },
    {
      "cell_type": "code",
      "execution_count": null,
      "metadata": {
        "id": "Uho88h41Wust"
      },
      "outputs": [],
      "source": [
        "mean = image_processor.image_mean\n",
        "std = image_processor.image_std\n",
        "if \"shortest_edge\" in image_processor.size:\n",
        "    height = width = image_processor.size[\"shortest_edge\"]\n",
        "else:\n",
        "    height = image_processor.size[\"height\"]\n",
        "    width = image_processor.size[\"width\"]\n",
        "resize_to = (height, width)\n",
        "\n",
        "num_frames_to_sample = model.config.num_frames\n",
        "sample_rate = 4\n",
        "fps = 30\n",
        "clip_duration = num_frames_to_sample * sample_rate / fps"
      ]
    },
    {
      "cell_type": "markdown",
      "metadata": {
        "id": "P-7LzJj5Wusu"
      },
      "source": [
        "Now, define the dataset-specific transformations and the datasets respectively. Starting with the training set:"
      ]
    },
    {
      "cell_type": "code",
      "source": [
        "dataset_root_path=\"/content/UCF101_subset\""
      ],
      "metadata": {
        "id": "AhM6oSGFb92W"
      },
      "execution_count": null,
      "outputs": []
    },
    {
      "cell_type": "code",
      "execution_count": null,
      "metadata": {
        "id": "DJezhiVLWusu"
      },
      "outputs": [],
      "source": [
        "train_transform = Compose(\n",
        "    [\n",
        "        ApplyTransformToKey(\n",
        "            key=\"video\",\n",
        "            transform=Compose(\n",
        "                [\n",
        "                    UniformTemporalSubsample(num_frames_to_sample),\n",
        "                    Lambda(lambda x: x / 255.0),\n",
        "                    Normalize(mean, std),\n",
        "                    RandomShortSideScale(min_size=256, max_size=320),\n",
        "                    RandomCrop(resize_to),\n",
        "                    RandomHorizontalFlip(p=0.5),\n",
        "                ]\n",
        "            ),\n",
        "        ),\n",
        "    ]\n",
        ")\n",
        "\n",
        "train_dataset = pytorchvideo.data.Ucf101(\n",
        "    data_path=os.path.join(dataset_root_path, \"train\"),\n",
        "    clip_sampler=pytorchvideo.data.make_clip_sampler(\"random\", clip_duration),\n",
        "    decode_audio=False,\n",
        "    transform=train_transform,\n",
        ")"
      ]
    },
    {
      "cell_type": "markdown",
      "metadata": {
        "id": "AMcgeFOMWusv"
      },
      "source": [
        "The same sequence of workflow can be applied to the validation and evaluation sets:"
      ]
    },
    {
      "cell_type": "code",
      "execution_count": null,
      "metadata": {
        "id": "I3qDuLwKWusv"
      },
      "outputs": [],
      "source": [
        "val_transform = Compose(\n",
        "    [\n",
        "        ApplyTransformToKey(\n",
        "            key=\"video\",\n",
        "            transform=Compose(\n",
        "                [\n",
        "                    UniformTemporalSubsample(num_frames_to_sample),\n",
        "                    Lambda(lambda x: x / 255.0),\n",
        "                    Normalize(mean, std),\n",
        "                    Resize(resize_to),\n",
        "                ]\n",
        "            ),\n",
        "        ),\n",
        "    ]\n",
        ")\n",
        "\n",
        "val_dataset = pytorchvideo.data.Ucf101(\n",
        "    data_path=os.path.join(dataset_root_path, \"val\"),\n",
        "    clip_sampler=pytorchvideo.data.make_clip_sampler(\"uniform\", clip_duration),\n",
        "    decode_audio=False,\n",
        "    transform=val_transform,\n",
        ")\n",
        "\n",
        "test_dataset = pytorchvideo.data.Ucf101(\n",
        "    data_path=os.path.join(dataset_root_path, \"test\"),\n",
        "    clip_sampler=pytorchvideo.data.make_clip_sampler(\"uniform\", clip_duration),\n",
        "    decode_audio=False,\n",
        "    transform=val_transform,\n",
        ")"
      ]
    },
    {
      "cell_type": "code",
      "execution_count": null,
      "metadata": {
        "id": "9pMGk6XtWusw",
        "outputId": "9bd424d7-31bd-4d8c-cdff-81dd34d097fa",
        "colab": {
          "base_uri": "https://localhost:8080/"
        }
      },
      "outputs": [
        {
          "output_type": "stream",
          "name": "stdout",
          "text": [
            "300 30 75\n"
          ]
        }
      ],
      "source": [
        "print(train_dataset.num_videos, val_dataset.num_videos, test_dataset.num_videos)"
      ]
    },
    {
      "cell_type": "markdown",
      "metadata": {
        "id": "XtuqTroFWusw"
      },
      "source": [
        "## Visualize the preprocessed video for better debugging "
      ]
    },
    {
      "cell_type": "code",
      "execution_count": null,
      "metadata": {
        "id": "xcdNvUuMWusx",
        "colab": {
          "base_uri": "https://localhost:8080/",
          "height": 241
        },
        "outputId": "1890936e-ee96-4cc4-c674-008eb638d770"
      },
      "outputs": [
        {
          "output_type": "execute_result",
          "data": {
            "image/gif": "[encoded data removed]",
            "text/plain": [
              "<IPython.core.display.Image object>"
            ]
          },
          "metadata": {},
          "execution_count": 40
        }
      ],
      "source": [
        "import imageio\n",
        "import numpy as np\n",
        "from IPython.display import Image\n",
        "\n",
        "def unnormalize_img(img):\n",
        "    \"\"\"Un-normalizes the image pixels.\"\"\"\n",
        "    img = (img * std) + mean\n",
        "    img = (img * 255).astype(\"uint8\")\n",
        "    return img.clip(0, 255)\n",
        "\n",
        "def create_gif(video_tensor, filename=\"sample.gif\"):\n",
        "    \"\"\"Prepares a GIF from a video tensor.\n",
        "    \n",
        "    The video tensor is expected to have the following shape:\n",
        "    (num_frames, num_channels, height, width).\n",
        "    \"\"\"\n",
        "    frames = []\n",
        "    for video_frame in video_tensor:\n",
        "        frame_unnormalized = unnormalize_img(video_frame.permute(1, 2, 0).numpy())\n",
        "        frames.append(frame_unnormalized)\n",
        "    kargs = {\"duration\": 0.25}\n",
        "    imageio.mimsave(filename, frames, \"GIF\", **kargs)\n",
        "    return filename\n",
        "\n",
        "def display_gif(video_tensor, gif_name=\"sample.gif\"):\n",
        "    \"\"\"Prepares and displays a GIF from a video tensor.\"\"\"\n",
        "    video_tensor = video_tensor.permute(1, 0, 2, 3)\n",
        "    gif_filename = create_gif(video_tensor, gif_name)\n",
        "    return Image(filename=gif_filename)\n",
        "\n",
        "sample_video = next(iter(train_dataset))\n",
        "video_tensor = sample_video[\"video\"]\n",
        "display_gif(video_tensor)"
      ]
    },
    {
      "cell_type": "markdown",
      "metadata": {
        "id": "3oOxIUN-Wusx"
      },
      "source": [
        "## Train the model "
      ]
    },
    {
      "cell_type": "markdown",
      "metadata": {
        "id": "Yh5m3TnVWusx"
      },
      "source": [
        "Leverage [`Trainer`](https://huggingface.co/docs/transformers/main_classes/trainer) from  🤗 Transformers for training the model. To instantiate a `Trainer`, you need to define the training configuration and an evaluation metric. The most important is the [`TrainingArguments`](https://huggingface.co/transformers/main_classes/trainer.html#transformers.TrainingArguments), which is a class that contains all the attributes to configure the training. It requires an output folder name, which will be used to save the checkpoints of the model. It also helps sync all the information in the model repository on 🤗 Hub.\n",
        "\n",
        "Most of the training arguments are self-explanatory, but one that is quite important here is `remove_unused_columns=False`. This one will drop any features not used by the model's call function. By default it's `True` because usually it's ideal to drop unused feature columns, making it easier to unpack inputs into the model's call function. But, in this case, you need the unused features ('video' in particular) in order to create `pixel_values` (which is a mandatory key our model expects in its inputs)."
      ]
    },
    {
      "cell_type": "code",
      "source": [
        "batch_size=3"
      ],
      "metadata": {
        "id": "--4-U-xUcjuq"
      },
      "execution_count": null,
      "outputs": []
    },
    {
      "cell_type": "code",
      "execution_count": null,
      "metadata": {
        "id": "e-S94rjeWusy"
      },
      "outputs": [],
      "source": [
        "from transformers import TrainingArguments, Trainer\n",
        "\n",
        "model_name = model_ckpt.split(\"/\")[-1]\n",
        "new_model_name = f\"{model_name}-finetuned-ucf101-subset\"\n",
        "num_epochs = 4\n",
        "\n",
        "args = TrainingArguments(\n",
        "    new_model_name,\n",
        "    remove_unused_columns=False,\n",
        "    evaluation_strategy=\"epoch\",\n",
        "    save_strategy=\"epoch\",\n",
        "    learning_rate=5e-5,\n",
        "    per_device_train_batch_size=batch_size,\n",
        "    per_device_eval_batch_size=batch_size,\n",
        "    warmup_ratio=0.1,\n",
        "    logging_steps=10,\n",
        "    load_best_model_at_end=True,\n",
        "    metric_for_best_model=\"accuracy\",\n",
        "    push_to_hub=True,\n",
        "    max_steps=(train_dataset.num_videos // batch_size) * num_epochs,\n",
        ")"
      ]
    },
    {
      "cell_type": "code",
      "execution_count": null,
      "metadata": {
        "id": "CjVBhsGnWusz"
      },
      "outputs": [],
      "source": [
        "import evaluate\n",
        "\n",
        "metric = evaluate.load(\"accuracy\")\n",
        "\n",
        "\n",
        "def compute_metrics(eval_pred):\n",
        "    predictions = np.argmax(eval_pred.predictions, axis=1)\n",
        "    return metric.compute(predictions=predictions, references=eval_pred.label_ids)"
      ]
    },
    {
      "cell_type": "markdown",
      "metadata": {
        "id": "UB4MtfyRWusz"
      },
      "source": [
        "\n",
        "\n",
        "Also, define a `collate_fn`, which will be used to batch examples together. Each batch consists of 2 keys, namely `pixel_values` and `labels`."
      ]
    },
    {
      "cell_type": "code",
      "execution_count": null,
      "metadata": {
        "id": "2GxwJL2wWusz"
      },
      "outputs": [],
      "source": [
        "def collate_fn(examples):\n",
        "    # permute to (num_frames, num_channels, height, width)\n",
        "    pixel_values = torch.stack(\n",
        "        [example[\"video\"].permute(1, 0, 2, 3) for example in examples]\n",
        "    )\n",
        "    labels = torch.tensor([example[\"label\"] for example in examples])\n",
        "    return {\"pixel_values\": pixel_values, \"labels\": labels}"
      ]
    },
    {
      "cell_type": "markdown",
      "metadata": {
        "id": "DHkben_pWus0"
      },
      "source": [
        "Then you just pass all of this along with the datasets to `Trainer`:"
      ]
    },
    {
      "cell_type": "code",
      "execution_count": null,
      "metadata": {
        "id": "BcNCmqQoWus0",
        "colab": {
          "base_uri": "https://localhost:8080/"
        },
        "outputId": "eebc9f0d-883f-470f-f6a6-346a1196af67"
      },
      "outputs": [
        {
          "output_type": "stream",
          "name": "stderr",
          "text": [
            "/content/videomae-base-finetuned-ucf101-subset is already a clone of https://huggingface.co/meermoazzam41/videomae-base-finetuned-ucf101-subset. Make sure you pull the latest changes with `repo.git_pull()`.\n",
            "WARNING:huggingface_hub.repository:/content/videomae-base-finetuned-ucf101-subset is already a clone of https://huggingface.co/meermoazzam41/videomae-base-finetuned-ucf101-subset. Make sure you pull the latest changes with `repo.git_pull()`.\n"
          ]
        }
      ],
      "source": [
        "trainer = Trainer(\n",
        "    model,\n",
        "    args,\n",
        "    train_dataset=train_dataset,\n",
        "    eval_dataset=val_dataset,\n",
        "    tokenizer=image_processor,\n",
        "    compute_metrics=compute_metrics,\n",
        "    data_collator=collate_fn,\n",
        ")"
      ]
    },
    {
      "cell_type": "markdown",
      "metadata": {
        "id": "HzP92WbvWutA"
      },
      "source": [
        "You might wonder why you passed along the `image_processor` as a tokenizer when you preprocessed the data already. This is only to make sure the image processor configuration file (stored as JSON) will also be uploaded to the repo on the Hub.\n",
        "\n",
        "Now fine-tune our model by calling the `train` method:"
      ]
    },
    {
      "cell_type": "code",
      "source": [
        "import torch\n"
      ],
      "metadata": {
        "id": "pscOfBTeoiLN"
      },
      "execution_count": null,
      "outputs": []
    },
    {
      "cell_type": "code",
      "execution_count": null,
      "metadata": {
        "id": "sD3E5lp5WutB",
        "colab": {
          "base_uri": "https://localhost:8080/",
          "height": 394
        },
        "outputId": "dff9c37e-cb44-4d0b-eb2e-bb2a0bf40252"
      },
      "outputs": [
        {
          "output_type": "stream",
          "name": "stderr",
          "text": [
            "/usr/local/lib/python3.10/dist-packages/transformers/optimization.py:391: FutureWarning: This implementation of AdamW is deprecated and will be removed in a future version. Use the PyTorch implementation torch.optim.AdamW instead, or set `no_deprecation_warning=True` to disable this warning\n",
            "  warnings.warn(\n"
          ]
        },
        {
          "output_type": "display_data",
          "data": {
            "text/plain": [
              "<IPython.core.display.HTML object>"
            ],
            "text/html": [
              "\n",
              "    <div>\n",
              "      \n",
              "      <progress value='400' max='400' style='width:300px; height:20px; vertical-align: middle;'></progress>\n",
              "      [400/400 15:20, Epoch 3/9223372036854775807]\n",
              "    </div>\n",
              "    <table border=\"1\" class=\"dataframe\">\n",
              "  <thead>\n",
              " <tr style=\"text-align: left;\">\n",
              "      <th>Epoch</th>\n",
              "      <th>Training Loss</th>\n",
              "      <th>Validation Loss</th>\n",
              "      <th>Accuracy</th>\n",
              "    </tr>\n",
              "  </thead>\n",
              "  <tbody>\n",
              "    <tr>\n",
              "      <td>0</td>\n",
              "      <td>1.536900</td>\n",
              "      <td>1.217953</td>\n",
              "      <td>0.685714</td>\n",
              "    </tr>\n",
              "    <tr>\n",
              "      <td>1</td>\n",
              "      <td>0.850600</td>\n",
              "      <td>0.815431</td>\n",
              "      <td>0.800000</td>\n",
              "    </tr>\n",
              "    <tr>\n",
              "      <td>2</td>\n",
              "      <td>0.162900</td>\n",
              "      <td>0.290173</td>\n",
              "      <td>0.857143</td>\n",
              "    </tr>\n",
              "    <tr>\n",
              "      <td>3</td>\n",
              "      <td>0.299600</td>\n",
              "      <td>0.101598</td>\n",
              "      <td>0.957143</td>\n",
              "    </tr>\n",
              "  </tbody>\n",
              "</table><p>"
            ]
          },
          "metadata": {}
        },
        {
          "output_type": "stream",
          "name": "stderr",
          "text": [
            "/usr/local/lib/python3.10/dist-packages/torchvision/transforms/functional.py:1603: UserWarning: The default value of the antialias parameter of all the resizing transforms (Resize(), RandomResizedCrop(), etc.) will change from None to True in v0.17, in order to be consistent across the PIL and Tensor backends. To suppress this warning, directly pass antialias=True (recommended, future default), antialias=None (current default, which means False for Tensors and True for PIL), or antialias=False (only works on Tensors - PIL will still use antialiasing). This also applies if you are using the inference transforms from the models weights: update the call to weights.transforms(antialias=True).\n",
            "  warnings.warn(\n",
            "/usr/local/lib/python3.10/dist-packages/torchvision/transforms/functional.py:1603: UserWarning: The default value of the antialias parameter of all the resizing transforms (Resize(), RandomResizedCrop(), etc.) will change from None to True in v0.17, in order to be consistent across the PIL and Tensor backends. To suppress this warning, directly pass antialias=True (recommended, future default), antialias=None (current default, which means False for Tensors and True for PIL), or antialias=False (only works on Tensors - PIL will still use antialiasing). This also applies if you are using the inference transforms from the models weights: update the call to weights.transforms(antialias=True).\n",
            "  warnings.warn(\n",
            "/usr/local/lib/python3.10/dist-packages/torchvision/transforms/functional.py:1603: UserWarning: The default value of the antialias parameter of all the resizing transforms (Resize(), RandomResizedCrop(), etc.) will change from None to True in v0.17, in order to be consistent across the PIL and Tensor backends. To suppress this warning, directly pass antialias=True (recommended, future default), antialias=None (current default, which means False for Tensors and True for PIL), or antialias=False (only works on Tensors - PIL will still use antialiasing). This also applies if you are using the inference transforms from the models weights: update the call to weights.transforms(antialias=True).\n",
            "  warnings.warn(\n",
            "/usr/local/lib/python3.10/dist-packages/torchvision/transforms/functional.py:1603: UserWarning: The default value of the antialias parameter of all the resizing transforms (Resize(), RandomResizedCrop(), etc.) will change from None to True in v0.17, in order to be consistent across the PIL and Tensor backends. To suppress this warning, directly pass antialias=True (recommended, future default), antialias=None (current default, which means False for Tensors and True for PIL), or antialias=False (only works on Tensors - PIL will still use antialiasing). This also applies if you are using the inference transforms from the models weights: update the call to weights.transforms(antialias=True).\n",
            "  warnings.warn(\n"
          ]
        }
      ],
      "source": [
        "train_results = trainer.train()"
      ]
    },
    {
      "cell_type": "markdown",
      "metadata": {
        "id": "XEWuV57WWutB"
      },
      "source": [
        "Once training is completed, share your model to the Hub with the [push_to_hub()](https://huggingface.co/docs/transformers/main/en/main_classes/trainer#transformers.Trainer.push_to_hub) method so everyone can use your model:"
      ]
    },
    {
      "cell_type": "code",
      "execution_count": null,
      "metadata": {
        "id": "Sp8frCcJWutB",
        "colab": {
          "base_uri": "https://localhost:8080/",
          "height": 281
        },
        "outputId": "2f50c097-de2a-46b6-c093-f1ae9ef6c0f6"
      },
      "outputs": [
        {
          "output_type": "stream",
          "name": "stderr",
          "text": [
            "To https://huggingface.co/meermoazzam41/videomae-base-finetuned-ucf101-subset\n",
            "   282491a..e87aff1  main -> main\n",
            "\n",
            "WARNING:huggingface_hub.repository:To https://huggingface.co/meermoazzam41/videomae-base-finetuned-ucf101-subset\n",
            "   282491a..e87aff1  main -> main\n",
            "\n",
            "To https://huggingface.co/meermoazzam41/videomae-base-finetuned-ucf101-subset\n",
            "   e87aff1..49e00fa  main -> main\n",
            "\n",
            "WARNING:huggingface_hub.repository:To https://huggingface.co/meermoazzam41/videomae-base-finetuned-ucf101-subset\n",
            "   e87aff1..49e00fa  main -> main\n",
            "\n"
          ]
        },
        {
          "output_type": "execute_result",
          "data": {
            "text/plain": [
              "'https://huggingface.co/meermoazzam41/videomae-base-finetuned-ucf101-subset/commit/e87aff1605e4d52054436ad46cc70dbfa7a61bef'"
            ],
            "application/vnd.google.colaboratory.intrinsic+json": {
              "type": "string"
            }
          },
          "metadata": {},
          "execution_count": 26
        }
      ],
      "source": [
        "trainer.push_to_hub()"
      ]
    },
    {
      "cell_type": "markdown",
      "metadata": {
        "id": "xMJkWiUdWutC"
      },
      "source": [
        "## Inference"
      ]
    },
    {
      "cell_type": "markdown",
      "metadata": {
        "id": "XiDQ65kYWutC"
      },
      "source": [
        "Great, now that you have fine-tuned a model, you can use it for inference!\n",
        "\n",
        "Load a video for inference:"
      ]
    },
    {
      "cell_type": "code",
      "execution_count": null,
      "metadata": {
        "id": "ABe0gQ9YWutC",
        "colab": {
          "base_uri": "https://localhost:8080/"
        },
        "outputId": "986b2815-9f89-446c-bb0d-01a3c4bfad65"
      },
      "outputs": [
        {
          "output_type": "stream",
          "name": "stderr",
          "text": [
            "/usr/local/lib/python3.10/dist-packages/torchvision/transforms/functional.py:1603: UserWarning: The default value of the antialias parameter of all the resizing transforms (Resize(), RandomResizedCrop(), etc.) will change from None to True in v0.17, in order to be consistent across the PIL and Tensor backends. To suppress this warning, directly pass antialias=True (recommended, future default), antialias=None (current default, which means False for Tensors and True for PIL), or antialias=False (only works on Tensors - PIL will still use antialiasing). This also applies if you are using the inference transforms from the models weights: update the call to weights.transforms(antialias=True).\n",
            "  warnings.warn(\n"
          ]
        }
      ],
      "source": [
        "sample_test_video = next(iter(test_dataset))"
      ]
    },
    {
      "cell_type": "code",
      "execution_count": null,
      "metadata": {
        "id": "ztB2LYyQWutD",
        "outputId": "bf0dc1da-1c07-41fa-c0ff-3230d35bbf44",
        "colab": {
          "base_uri": "https://localhost:8080/"
        }
      },
      "outputs": [
        {
          "output_type": "execute_result",
          "data": {
            "text/plain": [
              "[{'score': 0.9810245037078857, 'label': 'BenchPress'},\n",
              " {'score': 0.006717784330248833, 'label': 'Archery'},\n",
              " {'score': 0.0018812204943969846, 'label': 'BaseballPitch'},\n",
              " {'score': 0.0017124845180660486, 'label': 'BasketballDunk'},\n",
              " {'score': 0.0017085726140066981, 'label': 'BandMarching'}]"
            ]
          },
          "metadata": {},
          "execution_count": 80
        }
      ],
      "source": [
        "from transformers import pipeline\n",
        "\n",
        "video_cls = pipeline(model=\"meermoazzam41/videomae-base-finetuned-ucf101-subset\")\n",
        "video_cls(\"/content/UCF101_subset/test/BenchPress/v_BenchPress_g05_c02.avi\")"
      ]
    }
  ],
  "metadata": {
    "colab": {
      "provenance": [],
      "gpuType": "T4"
    },
    "language_info": {
      "name": "python"
    },
    "kernelspec": {
      "name": "python3",
      "display_name": "Python 3"
    },
    "gpuClass": "standard",
    "accelerator": "GPU",
    "widgets": {
      "application/vnd.jupyter.widget-state+json": {
        "128640c71fcc4693809ce1bdc66a598b": {
          "model_module": "@jupyter-widgets/controls",
          "model_name": "VBoxModel",
          "model_module_version": "1.5.0",
          "state": {
            "_dom_classes": [],
            "_model_module": "@jupyter-widgets/controls",
            "_model_module_version": "1.5.0",
            "_model_name": "VBoxModel",
            "_view_count": null,
            "_view_module": "@jupyter-widgets/controls",
            "_view_module_version": "1.5.0",
            "_view_name": "VBoxView",
            "box_style": "",
            "children": [
              "IPY_MODEL_bf169bfe8f6b4fe69b82a372412f5845",
              "IPY_MODEL_3a56cba7a96049bbaf8ebb6fcb8bda46",
              "IPY_MODEL_e0ce27b508664737802294c15079a830",
              "IPY_MODEL_141255e43ed04154987943b881e2cd3f"
            ],
            "layout": "IPY_MODEL_4b87eed71203447090bde1a41f8edd3c"
          }
        },
        "0f4a56e9a32443e5b83fa33374329901": {
          "model_module": "@jupyter-widgets/controls",
          "model_name": "HTMLModel",
          "model_module_version": "1.5.0",
          "state": {
            "_dom_classes": [],
            "_model_module": "@jupyter-widgets/controls",
            "_model_module_version": "1.5.0",
            "_model_name": "HTMLModel",
            "_view_count": null,
            "_view_module": "@jupyter-widgets/controls",
            "_view_module_version": "1.5.0",
            "_view_name": "HTMLView",
            "description": "",
            "description_tooltip": null,
            "layout": "IPY_MODEL_376243a8d9c246ffb84ede95ecd8df5d",
            "placeholder": "​",
            "style": "IPY_MODEL_893317cba6964dffa0f27d28c54211d8",
            "value": "<center> <img\nsrc=https://huggingface.co/front/assets/huggingface_logo-noborder.svg\nalt='Hugging Face'> <br> Copy a token from <a\nhref=\"https://huggingface.co/settings/tokens\" target=\"_blank\">your Hugging Face\ntokens page</a> and paste it below. <br> Immediately click login after copying\nyour token or it might be stored in plain text in this notebook file. </center>"
          }
        },
        "7968a805ea1f4ac2850e41f4d760060f": {
          "model_module": "@jupyter-widgets/controls",
          "model_name": "PasswordModel",
          "model_module_version": "1.5.0",
          "state": {
            "_dom_classes": [],
            "_model_module": "@jupyter-widgets/controls",
            "_model_module_version": "1.5.0",
            "_model_name": "PasswordModel",
            "_view_count": null,
            "_view_module": "@jupyter-widgets/controls",
            "_view_module_version": "1.5.0",
            "_view_name": "PasswordView",
            "continuous_update": true,
            "description": "Token:",
            "description_tooltip": null,
            "disabled": false,
            "layout": "IPY_MODEL_7d6043024bf344ccb0ca2386d4875682",
            "placeholder": "​",
            "style": "IPY_MODEL_decc998004e444d9b9a3f1727b4d5bf0",
            "value": ""
          }
        },
        "797d5e4717884991961e6dd0ed98cdb2": {
          "model_module": "@jupyter-widgets/controls",
          "model_name": "CheckboxModel",
          "model_module_version": "1.5.0",
          "state": {
            "_dom_classes": [],
            "_model_module": "@jupyter-widgets/controls",
            "_model_module_version": "1.5.0",
            "_model_name": "CheckboxModel",
            "_view_count": null,
            "_view_module": "@jupyter-widgets/controls",
            "_view_module_version": "1.5.0",
            "_view_name": "CheckboxView",
            "description": "Add token as git credential?",
            "description_tooltip": null,
            "disabled": false,
            "indent": true,
            "layout": "IPY_MODEL_17473a05cd8d4fb0a444c801b1b9ea62",
            "style": "IPY_MODEL_2420905239664a4ca1c081c3e54ebfca",
            "value": true
          }
        },
        "bab4e3d67f33431595dc8407f054cca4": {
          "model_module": "@jupyter-widgets/controls",
          "model_name": "ButtonModel",
          "model_module_version": "1.5.0",
          "state": {
            "_dom_classes": [],
            "_model_module": "@jupyter-widgets/controls",
            "_model_module_version": "1.5.0",
            "_model_name": "ButtonModel",
            "_view_count": null,
            "_view_module": "@jupyter-widgets/controls",
            "_view_module_version": "1.5.0",
            "_view_name": "ButtonView",
            "button_style": "",
            "description": "Login",
            "disabled": false,
            "icon": "",
            "layout": "IPY_MODEL_a9ccdb300dcb4131ba30c765d267b25b",
            "style": "IPY_MODEL_0da7f862d89442369963893f9aa0a65e",
            "tooltip": ""
          }
        },
        "81616b070cf64e4ab539acacbbc5901e": {
          "model_module": "@jupyter-widgets/controls",
          "model_name": "HTMLModel",
          "model_module_version": "1.5.0",
          "state": {
            "_dom_classes": [],
            "_model_module": "@jupyter-widgets/controls",
            "_model_module_version": "1.5.0",
            "_model_name": "HTMLModel",
            "_view_count": null,
            "_view_module": "@jupyter-widgets/controls",
            "_view_module_version": "1.5.0",
            "_view_name": "HTMLView",
            "description": "",
            "description_tooltip": null,
            "layout": "IPY_MODEL_254f0f124e9642a4b6db7e9ffead64d5",
            "placeholder": "​",
            "style": "IPY_MODEL_5d486a00d00c4b65a2844bd731258b88",
            "value": "\n<b>Pro Tip:</b> If you don't already have one, you can create a dedicated\n'notebooks' token with 'write' access, that you can then easily reuse for all\nnotebooks. </center>"
          }
        },
        "4b87eed71203447090bde1a41f8edd3c": {
          "model_module": "@jupyter-widgets/base",
          "model_name": "LayoutModel",
          "model_module_version": "1.2.0",
          "state": {
            "_model_module": "@jupyter-widgets/base",
            "_model_module_version": "1.2.0",
            "_model_name": "LayoutModel",
            "_view_count": null,
            "_view_module": "@jupyter-widgets/base",
            "_view_module_version": "1.2.0",
            "_view_name": "LayoutView",
            "align_content": null,
            "align_items": "center",
            "align_self": null,
            "border": null,
            "bottom": null,
            "display": "flex",
            "flex": null,
            "flex_flow": "column",
            "grid_area": null,
            "grid_auto_columns": null,
            "grid_auto_flow": null,
            "grid_auto_rows": null,
            "grid_column": null,
            "grid_gap": null,
            "grid_row": null,
            "grid_template_areas": null,
            "grid_template_columns": null,
            "grid_template_rows": null,
            "height": null,
            "justify_content": null,
            "justify_items": null,
            "left": null,
            "margin": null,
            "max_height": null,
            "max_width": null,
            "min_height": null,
            "min_width": null,
            "object_fit": null,
            "object_position": null,
            "order": null,
            "overflow": null,
            "overflow_x": null,
            "overflow_y": null,
            "padding": null,
            "right": null,
            "top": null,
            "visibility": null,
            "width": "50%"
          }
        },
        "376243a8d9c246ffb84ede95ecd8df5d": {
          "model_module": "@jupyter-widgets/base",
          "model_name": "LayoutModel",
          "model_module_version": "1.2.0",
          "state": {
            "_model_module": "@jupyter-widgets/base",
            "_model_module_version": "1.2.0",
            "_model_name": "LayoutModel",
            "_view_count": null,
            "_view_module": "@jupyter-widgets/base",
            "_view_module_version": "1.2.0",
            "_view_name": "LayoutView",
            "align_content": null,
            "align_items": null,
            "align_self": null,
            "border": null,
            "bottom": null,
            "display": null,
            "flex": null,
            "flex_flow": null,
            "grid_area": null,
            "grid_auto_columns": null,
            "grid_auto_flow": null,
            "grid_auto_rows": null,
            "grid_column": null,
            "grid_gap": null,
            "grid_row": null,
            "grid_template_areas": null,
            "grid_template_columns": null,
            "grid_template_rows": null,
            "height": null,
            "justify_content": null,
            "justify_items": null,
            "left": null,
            "margin": null,
            "max_height": null,
            "max_width": null,
            "min_height": null,
            "min_width": null,
            "object_fit": null,
            "object_position": null,
            "order": null,
            "overflow": null,
            "overflow_x": null,
            "overflow_y": null,
            "padding": null,
            "right": null,
            "top": null,
            "visibility": null,
            "width": null
          }
        },
        "893317cba6964dffa0f27d28c54211d8": {
          "model_module": "@jupyter-widgets/controls",
          "model_name": "DescriptionStyleModel",
          "model_module_version": "1.5.0",
          "state": {
            "_model_module": "@jupyter-widgets/controls",
            "_model_module_version": "1.5.0",
            "_model_name": "DescriptionStyleModel",
            "_view_count": null,
            "_view_module": "@jupyter-widgets/base",
            "_view_module_version": "1.2.0",
            "_view_name": "StyleView",
            "description_width": ""
          }
        },
        "7d6043024bf344ccb0ca2386d4875682": {
          "model_module": "@jupyter-widgets/base",
          "model_name": "LayoutModel",
          "model_module_version": "1.2.0",
          "state": {
            "_model_module": "@jupyter-widgets/base",
            "_model_module_version": "1.2.0",
            "_model_name": "LayoutModel",
            "_view_count": null,
            "_view_module": "@jupyter-widgets/base",
            "_view_module_version": "1.2.0",
            "_view_name": "LayoutView",
            "align_content": null,
            "align_items": null,
            "align_self": null,
            "border": null,
            "bottom": null,
            "display": null,
            "flex": null,
            "flex_flow": null,
            "grid_area": null,
            "grid_auto_columns": null,
            "grid_auto_flow": null,
            "grid_auto_rows": null,
            "grid_column": null,
            "grid_gap": null,
            "grid_row": null,
            "grid_template_areas": null,
            "grid_template_columns": null,
            "grid_template_rows": null,
            "height": null,
            "justify_content": null,
            "justify_items": null,
            "left": null,
            "margin": null,
            "max_height": null,
            "max_width": null,
            "min_height": null,
            "min_width": null,
            "object_fit": null,
            "object_position": null,
            "order": null,
            "overflow": null,
            "overflow_x": null,
            "overflow_y": null,
            "padding": null,
            "right": null,
            "top": null,
            "visibility": null,
            "width": null
          }
        },
        "decc998004e444d9b9a3f1727b4d5bf0": {
          "model_module": "@jupyter-widgets/controls",
          "model_name": "DescriptionStyleModel",
          "model_module_version": "1.5.0",
          "state": {
            "_model_module": "@jupyter-widgets/controls",
            "_model_module_version": "1.5.0",
            "_model_name": "DescriptionStyleModel",
            "_view_count": null,
            "_view_module": "@jupyter-widgets/base",
            "_view_module_version": "1.2.0",
            "_view_name": "StyleView",
            "description_width": ""
          }
        },
        "17473a05cd8d4fb0a444c801b1b9ea62": {
          "model_module": "@jupyter-widgets/base",
          "model_name": "LayoutModel",
          "model_module_version": "1.2.0",
          "state": {
            "_model_module": "@jupyter-widgets/base",
            "_model_module_version": "1.2.0",
            "_model_name": "LayoutModel",
            "_view_count": null,
            "_view_module": "@jupyter-widgets/base",
            "_view_module_version": "1.2.0",
            "_view_name": "LayoutView",
            "align_content": null,
            "align_items": null,
            "align_self": null,
            "border": null,
            "bottom": null,
            "display": null,
            "flex": null,
            "flex_flow": null,
            "grid_area": null,
            "grid_auto_columns": null,
            "grid_auto_flow": null,
            "grid_auto_rows": null,
            "grid_column": null,
            "grid_gap": null,
            "grid_row": null,
            "grid_template_areas": null,
            "grid_template_columns": null,
            "grid_template_rows": null,
            "height": null,
            "justify_content": null,
            "justify_items": null,
            "left": null,
            "margin": null,
            "max_height": null,
            "max_width": null,
            "min_height": null,
            "min_width": null,
            "object_fit": null,
            "object_position": null,
            "order": null,
            "overflow": null,
            "overflow_x": null,
            "overflow_y": null,
            "padding": null,
            "right": null,
            "top": null,
            "visibility": null,
            "width": null
          }
        },
        "2420905239664a4ca1c081c3e54ebfca": {
          "model_module": "@jupyter-widgets/controls",
          "model_name": "DescriptionStyleModel",
          "model_module_version": "1.5.0",
          "state": {
            "_model_module": "@jupyter-widgets/controls",
            "_model_module_version": "1.5.0",
            "_model_name": "DescriptionStyleModel",
            "_view_count": null,
            "_view_module": "@jupyter-widgets/base",
            "_view_module_version": "1.2.0",
            "_view_name": "StyleView",
            "description_width": ""
          }
        },
        "a9ccdb300dcb4131ba30c765d267b25b": {
          "model_module": "@jupyter-widgets/base",
          "model_name": "LayoutModel",
          "model_module_version": "1.2.0",
          "state": {
            "_model_module": "@jupyter-widgets/base",
            "_model_module_version": "1.2.0",
            "_model_name": "LayoutModel",
            "_view_count": null,
            "_view_module": "@jupyter-widgets/base",
            "_view_module_version": "1.2.0",
            "_view_name": "LayoutView",
            "align_content": null,
            "align_items": null,
            "align_self": null,
            "border": null,
            "bottom": null,
            "display": null,
            "flex": null,
            "flex_flow": null,
            "grid_area": null,
            "grid_auto_columns": null,
            "grid_auto_flow": null,
            "grid_auto_rows": null,
            "grid_column": null,
            "grid_gap": null,
            "grid_row": null,
            "grid_template_areas": null,
            "grid_template_columns": null,
            "grid_template_rows": null,
            "height": null,
            "justify_content": null,
            "justify_items": null,
            "left": null,
            "margin": null,
            "max_height": null,
            "max_width": null,
            "min_height": null,
            "min_width": null,
            "object_fit": null,
            "object_position": null,
            "order": null,
            "overflow": null,
            "overflow_x": null,
            "overflow_y": null,
            "padding": null,
            "right": null,
            "top": null,
            "visibility": null,
            "width": null
          }
        },
        "0da7f862d89442369963893f9aa0a65e": {
          "model_module": "@jupyter-widgets/controls",
          "model_name": "ButtonStyleModel",
          "model_module_version": "1.5.0",
          "state": {
            "_model_module": "@jupyter-widgets/controls",
            "_model_module_version": "1.5.0",
            "_model_name": "ButtonStyleModel",
            "_view_count": null,
            "_view_module": "@jupyter-widgets/base",
            "_view_module_version": "1.2.0",
            "_view_name": "StyleView",
            "button_color": null,
            "font_weight": ""
          }
        },
        "254f0f124e9642a4b6db7e9ffead64d5": {
          "model_module": "@jupyter-widgets/base",
          "model_name": "LayoutModel",
          "model_module_version": "1.2.0",
          "state": {
            "_model_module": "@jupyter-widgets/base",
            "_model_module_version": "1.2.0",
            "_model_name": "LayoutModel",
            "_view_count": null,
            "_view_module": "@jupyter-widgets/base",
            "_view_module_version": "1.2.0",
            "_view_name": "LayoutView",
            "align_content": null,
            "align_items": null,
            "align_self": null,
            "border": null,
            "bottom": null,
            "display": null,
            "flex": null,
            "flex_flow": null,
            "grid_area": null,
            "grid_auto_columns": null,
            "grid_auto_flow": null,
            "grid_auto_rows": null,
            "grid_column": null,
            "grid_gap": null,
            "grid_row": null,
            "grid_template_areas": null,
            "grid_template_columns": null,
            "grid_template_rows": null,
            "height": null,
            "justify_content": null,
            "justify_items": null,
            "left": null,
            "margin": null,
            "max_height": null,
            "max_width": null,
            "min_height": null,
            "min_width": null,
            "object_fit": null,
            "object_position": null,
            "order": null,
            "overflow": null,
            "overflow_x": null,
            "overflow_y": null,
            "padding": null,
            "right": null,
            "top": null,
            "visibility": null,
            "width": null
          }
        },
        "5d486a00d00c4b65a2844bd731258b88": {
          "model_module": "@jupyter-widgets/controls",
          "model_name": "DescriptionStyleModel",
          "model_module_version": "1.5.0",
          "state": {
            "_model_module": "@jupyter-widgets/controls",
            "_model_module_version": "1.5.0",
            "_model_name": "DescriptionStyleModel",
            "_view_count": null,
            "_view_module": "@jupyter-widgets/base",
            "_view_module_version": "1.2.0",
            "_view_name": "StyleView",
            "description_width": ""
          }
        },
        "3451a64c20384315ac6cc5b29f79cfcd": {
          "model_module": "@jupyter-widgets/controls",
          "model_name": "LabelModel",
          "model_module_version": "1.5.0",
          "state": {
            "_dom_classes": [],
            "_model_module": "@jupyter-widgets/controls",
            "_model_module_version": "1.5.0",
            "_model_name": "LabelModel",
            "_view_count": null,
            "_view_module": "@jupyter-widgets/controls",
            "_view_module_version": "1.5.0",
            "_view_name": "LabelView",
            "description": "",
            "description_tooltip": null,
            "layout": "IPY_MODEL_5d428bdcddf04f858745d000a77e1414",
            "placeholder": "​",
            "style": "IPY_MODEL_dd8aeaae8c864f2085498a4235b62a1e",
            "value": "Connecting..."
          }
        },
        "5d428bdcddf04f858745d000a77e1414": {
          "model_module": "@jupyter-widgets/base",
          "model_name": "LayoutModel",
          "model_module_version": "1.2.0",
          "state": {
            "_model_module": "@jupyter-widgets/base",
            "_model_module_version": "1.2.0",
            "_model_name": "LayoutModel",
            "_view_count": null,
            "_view_module": "@jupyter-widgets/base",
            "_view_module_version": "1.2.0",
            "_view_name": "LayoutView",
            "align_content": null,
            "align_items": null,
            "align_self": null,
            "border": null,
            "bottom": null,
            "display": null,
            "flex": null,
            "flex_flow": null,
            "grid_area": null,
            "grid_auto_columns": null,
            "grid_auto_flow": null,
            "grid_auto_rows": null,
            "grid_column": null,
            "grid_gap": null,
            "grid_row": null,
            "grid_template_areas": null,
            "grid_template_columns": null,
            "grid_template_rows": null,
            "height": null,
            "justify_content": null,
            "justify_items": null,
            "left": null,
            "margin": null,
            "max_height": null,
            "max_width": null,
            "min_height": null,
            "min_width": null,
            "object_fit": null,
            "object_position": null,
            "order": null,
            "overflow": null,
            "overflow_x": null,
            "overflow_y": null,
            "padding": null,
            "right": null,
            "top": null,
            "visibility": null,
            "width": null
          }
        },
        "dd8aeaae8c864f2085498a4235b62a1e": {
          "model_module": "@jupyter-widgets/controls",
          "model_name": "DescriptionStyleModel",
          "model_module_version": "1.5.0",
          "state": {
            "_model_module": "@jupyter-widgets/controls",
            "_model_module_version": "1.5.0",
            "_model_name": "DescriptionStyleModel",
            "_view_count": null,
            "_view_module": "@jupyter-widgets/base",
            "_view_module_version": "1.2.0",
            "_view_name": "StyleView",
            "description_width": ""
          }
        },
        "bf169bfe8f6b4fe69b82a372412f5845": {
          "model_module": "@jupyter-widgets/controls",
          "model_name": "LabelModel",
          "model_module_version": "1.5.0",
          "state": {
            "_dom_classes": [],
            "_model_module": "@jupyter-widgets/controls",
            "_model_module_version": "1.5.0",
            "_model_name": "LabelModel",
            "_view_count": null,
            "_view_module": "@jupyter-widgets/controls",
            "_view_module_version": "1.5.0",
            "_view_name": "LabelView",
            "description": "",
            "description_tooltip": null,
            "layout": "IPY_MODEL_b7fb0e6eeb5c402ab7a25af5c51394ba",
            "placeholder": "​",
            "style": "IPY_MODEL_fe90f8167b924ca0b167ca3ca1fbebe9",
            "value": "Token is valid."
          }
        },
        "3a56cba7a96049bbaf8ebb6fcb8bda46": {
          "model_module": "@jupyter-widgets/controls",
          "model_name": "LabelModel",
          "model_module_version": "1.5.0",
          "state": {
            "_dom_classes": [],
            "_model_module": "@jupyter-widgets/controls",
            "_model_module_version": "1.5.0",
            "_model_name": "LabelModel",
            "_view_count": null,
            "_view_module": "@jupyter-widgets/controls",
            "_view_module_version": "1.5.0",
            "_view_name": "LabelView",
            "description": "",
            "description_tooltip": null,
            "layout": "IPY_MODEL_156b145bc48e46dfbef062ce8f761eb6",
            "placeholder": "​",
            "style": "IPY_MODEL_15070b0c957a48549048602ba3409e82",
            "value": "Your token has been saved in your configured git credential helpers (store)."
          }
        },
        "e0ce27b508664737802294c15079a830": {
          "model_module": "@jupyter-widgets/controls",
          "model_name": "LabelModel",
          "model_module_version": "1.5.0",
          "state": {
            "_dom_classes": [],
            "_model_module": "@jupyter-widgets/controls",
            "_model_module_version": "1.5.0",
            "_model_name": "LabelModel",
            "_view_count": null,
            "_view_module": "@jupyter-widgets/controls",
            "_view_module_version": "1.5.0",
            "_view_name": "LabelView",
            "description": "",
            "description_tooltip": null,
            "layout": "IPY_MODEL_e32340fdd2cf4affa0668e2a8b5399a2",
            "placeholder": "​",
            "style": "IPY_MODEL_9044e627a5b842708273ca0aaffb9cc6",
            "value": "Your token has been saved to /root/.cache/huggingface/token"
          }
        },
        "141255e43ed04154987943b881e2cd3f": {
          "model_module": "@jupyter-widgets/controls",
          "model_name": "LabelModel",
          "model_module_version": "1.5.0",
          "state": {
            "_dom_classes": [],
            "_model_module": "@jupyter-widgets/controls",
            "_model_module_version": "1.5.0",
            "_model_name": "LabelModel",
            "_view_count": null,
            "_view_module": "@jupyter-widgets/controls",
            "_view_module_version": "1.5.0",
            "_view_name": "LabelView",
            "description": "",
            "description_tooltip": null,
            "layout": "IPY_MODEL_eec7e4744c994fdd857f587d96b77534",
            "placeholder": "​",
            "style": "IPY_MODEL_4ab764a740154178858f5e621f5273c2",
            "value": "Login successful"
          }
        },
        "b7fb0e6eeb5c402ab7a25af5c51394ba": {
          "model_module": "@jupyter-widgets/base",
          "model_name": "LayoutModel",
          "model_module_version": "1.2.0",
          "state": {
            "_model_module": "@jupyter-widgets/base",
            "_model_module_version": "1.2.0",
            "_model_name": "LayoutModel",
            "_view_count": null,
            "_view_module": "@jupyter-widgets/base",
            "_view_module_version": "1.2.0",
            "_view_name": "LayoutView",
            "align_content": null,
            "align_items": null,
            "align_self": null,
            "border": null,
            "bottom": null,
            "display": null,
            "flex": null,
            "flex_flow": null,
            "grid_area": null,
            "grid_auto_columns": null,
            "grid_auto_flow": null,
            "grid_auto_rows": null,
            "grid_column": null,
            "grid_gap": null,
            "grid_row": null,
            "grid_template_areas": null,
            "grid_template_columns": null,
            "grid_template_rows": null,
            "height": null,
            "justify_content": null,
            "justify_items": null,
            "left": null,
            "margin": null,
            "max_height": null,
            "max_width": null,
            "min_height": null,
            "min_width": null,
            "object_fit": null,
            "object_position": null,
            "order": null,
            "overflow": null,
            "overflow_x": null,
            "overflow_y": null,
            "padding": null,
            "right": null,
            "top": null,
            "visibility": null,
            "width": null
          }
        },
        "fe90f8167b924ca0b167ca3ca1fbebe9": {
          "model_module": "@jupyter-widgets/controls",
          "model_name": "DescriptionStyleModel",
          "model_module_version": "1.5.0",
          "state": {
            "_model_module": "@jupyter-widgets/controls",
            "_model_module_version": "1.5.0",
            "_model_name": "DescriptionStyleModel",
            "_view_count": null,
            "_view_module": "@jupyter-widgets/base",
            "_view_module_version": "1.2.0",
            "_view_name": "StyleView",
            "description_width": ""
          }
        },
        "156b145bc48e46dfbef062ce8f761eb6": {
          "model_module": "@jupyter-widgets/base",
          "model_name": "LayoutModel",
          "model_module_version": "1.2.0",
          "state": {
            "_model_module": "@jupyter-widgets/base",
            "_model_module_version": "1.2.0",
            "_model_name": "LayoutModel",
            "_view_count": null,
            "_view_module": "@jupyter-widgets/base",
            "_view_module_version": "1.2.0",
            "_view_name": "LayoutView",
            "align_content": null,
            "align_items": null,
            "align_self": null,
            "border": null,
            "bottom": null,
            "display": null,
            "flex": null,
            "flex_flow": null,
            "grid_area": null,
            "grid_auto_columns": null,
            "grid_auto_flow": null,
            "grid_auto_rows": null,
            "grid_column": null,
            "grid_gap": null,
            "grid_row": null,
            "grid_template_areas": null,
            "grid_template_columns": null,
            "grid_template_rows": null,
            "height": null,
            "justify_content": null,
            "justify_items": null,
            "left": null,
            "margin": null,
            "max_height": null,
            "max_width": null,
            "min_height": null,
            "min_width": null,
            "object_fit": null,
            "object_position": null,
            "order": null,
            "overflow": null,
            "overflow_x": null,
            "overflow_y": null,
            "padding": null,
            "right": null,
            "top": null,
            "visibility": null,
            "width": null
          }
        },
        "15070b0c957a48549048602ba3409e82": {
          "model_module": "@jupyter-widgets/controls",
          "model_name": "DescriptionStyleModel",
          "model_module_version": "1.5.0",
          "state": {
            "_model_module": "@jupyter-widgets/controls",
            "_model_module_version": "1.5.0",
            "_model_name": "DescriptionStyleModel",
            "_view_count": null,
            "_view_module": "@jupyter-widgets/base",
            "_view_module_version": "1.2.0",
            "_view_name": "StyleView",
            "description_width": ""
          }
        },
        "e32340fdd2cf4affa0668e2a8b5399a2": {
          "model_module": "@jupyter-widgets/base",
          "model_name": "LayoutModel",
          "model_module_version": "1.2.0",
          "state": {
            "_model_module": "@jupyter-widgets/base",
            "_model_module_version": "1.2.0",
            "_model_name": "LayoutModel",
            "_view_count": null,
            "_view_module": "@jupyter-widgets/base",
            "_view_module_version": "1.2.0",
            "_view_name": "LayoutView",
            "align_content": null,
            "align_items": null,
            "align_self": null,
            "border": null,
            "bottom": null,
            "display": null,
            "flex": null,
            "flex_flow": null,
            "grid_area": null,
            "grid_auto_columns": null,
            "grid_auto_flow": null,
            "grid_auto_rows": null,
            "grid_column": null,
            "grid_gap": null,
            "grid_row": null,
            "grid_template_areas": null,
            "grid_template_columns": null,
            "grid_template_rows": null,
            "height": null,
            "justify_content": null,
            "justify_items": null,
            "left": null,
            "margin": null,
            "max_height": null,
            "max_width": null,
            "min_height": null,
            "min_width": null,
            "object_fit": null,
            "object_position": null,
            "order": null,
            "overflow": null,
            "overflow_x": null,
            "overflow_y": null,
            "padding": null,
            "right": null,
            "top": null,
            "visibility": null,
            "width": null
          }
        },
        "9044e627a5b842708273ca0aaffb9cc6": {
          "model_module": "@jupyter-widgets/controls",
          "model_name": "DescriptionStyleModel",
          "model_module_version": "1.5.0",
          "state": {
            "_model_module": "@jupyter-widgets/controls",
            "_model_module_version": "1.5.0",
            "_model_name": "DescriptionStyleModel",
            "_view_count": null,
            "_view_module": "@jupyter-widgets/base",
            "_view_module_version": "1.2.0",
            "_view_name": "StyleView",
            "description_width": ""
          }
        },
        "eec7e4744c994fdd857f587d96b77534": {
          "model_module": "@jupyter-widgets/base",
          "model_name": "LayoutModel",
          "model_module_version": "1.2.0",
          "state": {
            "_model_module": "@jupyter-widgets/base",
            "_model_module_version": "1.2.0",
            "_model_name": "LayoutModel",
            "_view_count": null,
            "_view_module": "@jupyter-widgets/base",
            "_view_module_version": "1.2.0",
            "_view_name": "LayoutView",
            "align_content": null,
            "align_items": null,
            "align_self": null,
            "border": null,
            "bottom": null,
            "display": null,
            "flex": null,
            "flex_flow": null,
            "grid_area": null,
            "grid_auto_columns": null,
            "grid_auto_flow": null,
            "grid_auto_rows": null,
            "grid_column": null,
            "grid_gap": null,
            "grid_row": null,
            "grid_template_areas": null,
            "grid_template_columns": null,
            "grid_template_rows": null,
            "height": null,
            "justify_content": null,
            "justify_items": null,
            "left": null,
            "margin": null,
            "max_height": null,
            "max_width": null,
            "min_height": null,
            "min_width": null,
            "object_fit": null,
            "object_position": null,
            "order": null,
            "overflow": null,
            "overflow_x": null,
            "overflow_y": null,
            "padding": null,
            "right": null,
            "top": null,
            "visibility": null,
            "width": null
          }
        },
        "4ab764a740154178858f5e621f5273c2": {
          "model_module": "@jupyter-widgets/controls",
          "model_name": "DescriptionStyleModel",
          "model_module_version": "1.5.0",
          "state": {
            "_model_module": "@jupyter-widgets/controls",
            "_model_module_version": "1.5.0",
            "_model_name": "DescriptionStyleModel",
            "_view_count": null,
            "_view_module": "@jupyter-widgets/base",
            "_view_module_version": "1.2.0",
            "_view_name": "StyleView",
            "description_width": ""
          }
        },
        "8a2f9843554d4b96a62021ba51b011bf": {
          "model_module": "@jupyter-widgets/controls",
          "model_name": "HBoxModel",
          "model_module_version": "1.5.0",
          "state": {
            "_dom_classes": [],
            "_model_module": "@jupyter-widgets/controls",
            "_model_module_version": "1.5.0",
            "_model_name": "HBoxModel",
            "_view_count": null,
            "_view_module": "@jupyter-widgets/controls",
            "_view_module_version": "1.5.0",
            "_view_name": "HBoxView",
            "box_style": "",
            "children": [
              "IPY_MODEL_70346750898441e2a24036e2980c3b60",
              "IPY_MODEL_160855d381464208b4b33d79f639db29",
              "IPY_MODEL_f98f8aebdc6249d6872cf91123082831"
            ],
            "layout": "IPY_MODEL_872ae20f26824ce281eb8f933f9e265a"
          }
        },
        "70346750898441e2a24036e2980c3b60": {
          "model_module": "@jupyter-widgets/controls",
          "model_name": "HTMLModel",
          "model_module_version": "1.5.0",
          "state": {
            "_dom_classes": [],
            "_model_module": "@jupyter-widgets/controls",
            "_model_module_version": "1.5.0",
            "_model_name": "HTMLModel",
            "_view_count": null,
            "_view_module": "@jupyter-widgets/controls",
            "_view_module_version": "1.5.0",
            "_view_name": "HTMLView",
            "description": "",
            "description_tooltip": null,
            "layout": "IPY_MODEL_84b289080ee9406fa0836aaf0eda939a",
            "placeholder": "​",
            "style": "IPY_MODEL_a8208443a022409a862f8bc5bd39b6b3",
            "value": "Downloading UCF101_subset.tar.gz: 100%"
          }
        },
        "160855d381464208b4b33d79f639db29": {
          "model_module": "@jupyter-widgets/controls",
          "model_name": "FloatProgressModel",
          "model_module_version": "1.5.0",
          "state": {
            "_dom_classes": [],
            "_model_module": "@jupyter-widgets/controls",
            "_model_module_version": "1.5.0",
            "_model_name": "FloatProgressModel",
            "_view_count": null,
            "_view_module": "@jupyter-widgets/controls",
            "_view_module_version": "1.5.0",
            "_view_name": "ProgressView",
            "bar_style": "success",
            "description": "",
            "description_tooltip": null,
            "layout": "IPY_MODEL_1b1b214df541478fa6a39dbe90e7a549",
            "max": 171386880,
            "min": 0,
            "orientation": "horizontal",
            "style": "IPY_MODEL_dd849002d4a545e8aef7093fc8f41a6c",
            "value": 171386880
          }
        },
        "f98f8aebdc6249d6872cf91123082831": {
          "model_module": "@jupyter-widgets/controls",
          "model_name": "HTMLModel",
          "model_module_version": "1.5.0",
          "state": {
            "_dom_classes": [],
            "_model_module": "@jupyter-widgets/controls",
            "_model_module_version": "1.5.0",
            "_model_name": "HTMLModel",
            "_view_count": null,
            "_view_module": "@jupyter-widgets/controls",
            "_view_module_version": "1.5.0",
            "_view_name": "HTMLView",
            "description": "",
            "description_tooltip": null,
            "layout": "IPY_MODEL_b9de5550972f46cea67f1c52112e7525",
            "placeholder": "​",
            "style": "IPY_MODEL_b16e11956cf441a3a6ae2a5f2c1f4c8d",
            "value": " 171M/171M [00:00&lt;00:00, 358MB/s]"
          }
        },
        "872ae20f26824ce281eb8f933f9e265a": {
          "model_module": "@jupyter-widgets/base",
          "model_name": "LayoutModel",
          "model_module_version": "1.2.0",
          "state": {
            "_model_module": "@jupyter-widgets/base",
            "_model_module_version": "1.2.0",
            "_model_name": "LayoutModel",
            "_view_count": null,
            "_view_module": "@jupyter-widgets/base",
            "_view_module_version": "1.2.0",
            "_view_name": "LayoutView",
            "align_content": null,
            "align_items": null,
            "align_self": null,
            "border": null,
            "bottom": null,
            "display": null,
            "flex": null,
            "flex_flow": null,
            "grid_area": null,
            "grid_auto_columns": null,
            "grid_auto_flow": null,
            "grid_auto_rows": null,
            "grid_column": null,
            "grid_gap": null,
            "grid_row": null,
            "grid_template_areas": null,
            "grid_template_columns": null,
            "grid_template_rows": null,
            "height": null,
            "justify_content": null,
            "justify_items": null,
            "left": null,
            "margin": null,
            "max_height": null,
            "max_width": null,
            "min_height": null,
            "min_width": null,
            "object_fit": null,
            "object_position": null,
            "order": null,
            "overflow": null,
            "overflow_x": null,
            "overflow_y": null,
            "padding": null,
            "right": null,
            "top": null,
            "visibility": null,
            "width": null
          }
        },
        "84b289080ee9406fa0836aaf0eda939a": {
          "model_module": "@jupyter-widgets/base",
          "model_name": "LayoutModel",
          "model_module_version": "1.2.0",
          "state": {
            "_model_module": "@jupyter-widgets/base",
            "_model_module_version": "1.2.0",
            "_model_name": "LayoutModel",
            "_view_count": null,
            "_view_module": "@jupyter-widgets/base",
            "_view_module_version": "1.2.0",
            "_view_name": "LayoutView",
            "align_content": null,
            "align_items": null,
            "align_self": null,
            "border": null,
            "bottom": null,
            "display": null,
            "flex": null,
            "flex_flow": null,
            "grid_area": null,
            "grid_auto_columns": null,
            "grid_auto_flow": null,
            "grid_auto_rows": null,
            "grid_column": null,
            "grid_gap": null,
            "grid_row": null,
            "grid_template_areas": null,
            "grid_template_columns": null,
            "grid_template_rows": null,
            "height": null,
            "justify_content": null,
            "justify_items": null,
            "left": null,
            "margin": null,
            "max_height": null,
            "max_width": null,
            "min_height": null,
            "min_width": null,
            "object_fit": null,
            "object_position": null,
            "order": null,
            "overflow": null,
            "overflow_x": null,
            "overflow_y": null,
            "padding": null,
            "right": null,
            "top": null,
            "visibility": null,
            "width": null
          }
        },
        "a8208443a022409a862f8bc5bd39b6b3": {
          "model_module": "@jupyter-widgets/controls",
          "model_name": "DescriptionStyleModel",
          "model_module_version": "1.5.0",
          "state": {
            "_model_module": "@jupyter-widgets/controls",
            "_model_module_version": "1.5.0",
            "_model_name": "DescriptionStyleModel",
            "_view_count": null,
            "_view_module": "@jupyter-widgets/base",
            "_view_module_version": "1.2.0",
            "_view_name": "StyleView",
            "description_width": ""
          }
        },
        "1b1b214df541478fa6a39dbe90e7a549": {
          "model_module": "@jupyter-widgets/base",
          "model_name": "LayoutModel",
          "model_module_version": "1.2.0",
          "state": {
            "_model_module": "@jupyter-widgets/base",
            "_model_module_version": "1.2.0",
            "_model_name": "LayoutModel",
            "_view_count": null,
            "_view_module": "@jupyter-widgets/base",
            "_view_module_version": "1.2.0",
            "_view_name": "LayoutView",
            "align_content": null,
            "align_items": null,
            "align_self": null,
            "border": null,
            "bottom": null,
            "display": null,
            "flex": null,
            "flex_flow": null,
            "grid_area": null,
            "grid_auto_columns": null,
            "grid_auto_flow": null,
            "grid_auto_rows": null,
            "grid_column": null,
            "grid_gap": null,
            "grid_row": null,
            "grid_template_areas": null,
            "grid_template_columns": null,
            "grid_template_rows": null,
            "height": null,
            "justify_content": null,
            "justify_items": null,
            "left": null,
            "margin": null,
            "max_height": null,
            "max_width": null,
            "min_height": null,
            "min_width": null,
            "object_fit": null,
            "object_position": null,
            "order": null,
            "overflow": null,
            "overflow_x": null,
            "overflow_y": null,
            "padding": null,
            "right": null,
            "top": null,
            "visibility": null,
            "width": null
          }
        },
        "dd849002d4a545e8aef7093fc8f41a6c": {
          "model_module": "@jupyter-widgets/controls",
          "model_name": "ProgressStyleModel",
          "model_module_version": "1.5.0",
          "state": {
            "_model_module": "@jupyter-widgets/controls",
            "_model_module_version": "1.5.0",
            "_model_name": "ProgressStyleModel",
            "_view_count": null,
            "_view_module": "@jupyter-widgets/base",
            "_view_module_version": "1.2.0",
            "_view_name": "StyleView",
            "bar_color": null,
            "description_width": ""
          }
        },
        "b9de5550972f46cea67f1c52112e7525": {
          "model_module": "@jupyter-widgets/base",
          "model_name": "LayoutModel",
          "model_module_version": "1.2.0",
          "state": {
            "_model_module": "@jupyter-widgets/base",
            "_model_module_version": "1.2.0",
            "_model_name": "LayoutModel",
            "_view_count": null,
            "_view_module": "@jupyter-widgets/base",
            "_view_module_version": "1.2.0",
            "_view_name": "LayoutView",
            "align_content": null,
            "align_items": null,
            "align_self": null,
            "border": null,
            "bottom": null,
            "display": null,
            "flex": null,
            "flex_flow": null,
            "grid_area": null,
            "grid_auto_columns": null,
            "grid_auto_flow": null,
            "grid_auto_rows": null,
            "grid_column": null,
            "grid_gap": null,
            "grid_row": null,
            "grid_template_areas": null,
            "grid_template_columns": null,
            "grid_template_rows": null,
            "height": null,
            "justify_content": null,
            "justify_items": null,
            "left": null,
            "margin": null,
            "max_height": null,
            "max_width": null,
            "min_height": null,
            "min_width": null,
            "object_fit": null,
            "object_position": null,
            "order": null,
            "overflow": null,
            "overflow_x": null,
            "overflow_y": null,
            "padding": null,
            "right": null,
            "top": null,
            "visibility": null,
            "width": null
          }
        },
        "b16e11956cf441a3a6ae2a5f2c1f4c8d": {
          "model_module": "@jupyter-widgets/controls",
          "model_name": "DescriptionStyleModel",
          "model_module_version": "1.5.0",
          "state": {
            "_model_module": "@jupyter-widgets/controls",
            "_model_module_version": "1.5.0",
            "_model_name": "DescriptionStyleModel",
            "_view_count": null,
            "_view_module": "@jupyter-widgets/base",
            "_view_module_version": "1.2.0",
            "_view_name": "StyleView",
            "description_width": ""
          }
        },
        "1ae160dd677048b89414b687d027a877": {
          "model_module": "@jupyter-widgets/controls",
          "model_name": "HBoxModel",
          "model_module_version": "1.5.0",
          "state": {
            "_dom_classes": [],
            "_model_module": "@jupyter-widgets/controls",
            "_model_module_version": "1.5.0",
            "_model_name": "HBoxModel",
            "_view_count": null,
            "_view_module": "@jupyter-widgets/controls",
            "_view_module_version": "1.5.0",
            "_view_name": "HBoxView",
            "box_style": "",
            "children": [
              "IPY_MODEL_4946ef237f7746a8836c16132fa33bf2",
              "IPY_MODEL_de4050b4ded6470c809e7339aa9f2e12",
              "IPY_MODEL_f17b5d194da14272bb99b08530853cd6"
            ],
            "layout": "IPY_MODEL_dc630200abae455e9efc19ea77e2d95a"
          }
        },
        "4946ef237f7746a8836c16132fa33bf2": {
          "model_module": "@jupyter-widgets/controls",
          "model_name": "HTMLModel",
          "model_module_version": "1.5.0",
          "state": {
            "_dom_classes": [],
            "_model_module": "@jupyter-widgets/controls",
            "_model_module_version": "1.5.0",
            "_model_name": "HTMLModel",
            "_view_count": null,
            "_view_module": "@jupyter-widgets/controls",
            "_view_module_version": "1.5.0",
            "_view_name": "HTMLView",
            "description": "",
            "description_tooltip": null,
            "layout": "IPY_MODEL_85e16a634a4d4011b81579dca5427bec",
            "placeholder": "​",
            "style": "IPY_MODEL_0963fe89302d4652abdb908133c5f3fc",
            "value": "Downloading (…)rocessor_config.json: 100%"
          }
        },
        "de4050b4ded6470c809e7339aa9f2e12": {
          "model_module": "@jupyter-widgets/controls",
          "model_name": "FloatProgressModel",
          "model_module_version": "1.5.0",
          "state": {
            "_dom_classes": [],
            "_model_module": "@jupyter-widgets/controls",
            "_model_module_version": "1.5.0",
            "_model_name": "FloatProgressModel",
            "_view_count": null,
            "_view_module": "@jupyter-widgets/controls",
            "_view_module_version": "1.5.0",
            "_view_name": "ProgressView",
            "bar_style": "success",
            "description": "",
            "description_tooltip": null,
            "layout": "IPY_MODEL_29b547b5c44b411e94fff78f24e8265c",
            "max": 271,
            "min": 0,
            "orientation": "horizontal",
            "style": "IPY_MODEL_65594bc367f747c3bdd1f59a5edcd941",
            "value": 271
          }
        },
        "f17b5d194da14272bb99b08530853cd6": {
          "model_module": "@jupyter-widgets/controls",
          "model_name": "HTMLModel",
          "model_module_version": "1.5.0",
          "state": {
            "_dom_classes": [],
            "_model_module": "@jupyter-widgets/controls",
            "_model_module_version": "1.5.0",
            "_model_name": "HTMLModel",
            "_view_count": null,
            "_view_module": "@jupyter-widgets/controls",
            "_view_module_version": "1.5.0",
            "_view_name": "HTMLView",
            "description": "",
            "description_tooltip": null,
            "layout": "IPY_MODEL_213cbd0cfb35448fb13893e126771ef7",
            "placeholder": "​",
            "style": "IPY_MODEL_07304763ccd147709c484650c11ced55",
            "value": " 271/271 [00:00&lt;00:00, 3.04kB/s]"
          }
        },
        "dc630200abae455e9efc19ea77e2d95a": {
          "model_module": "@jupyter-widgets/base",
          "model_name": "LayoutModel",
          "model_module_version": "1.2.0",
          "state": {
            "_model_module": "@jupyter-widgets/base",
            "_model_module_version": "1.2.0",
            "_model_name": "LayoutModel",
            "_view_count": null,
            "_view_module": "@jupyter-widgets/base",
            "_view_module_version": "1.2.0",
            "_view_name": "LayoutView",
            "align_content": null,
            "align_items": null,
            "align_self": null,
            "border": null,
            "bottom": null,
            "display": null,
            "flex": null,
            "flex_flow": null,
            "grid_area": null,
            "grid_auto_columns": null,
            "grid_auto_flow": null,
            "grid_auto_rows": null,
            "grid_column": null,
            "grid_gap": null,
            "grid_row": null,
            "grid_template_areas": null,
            "grid_template_columns": null,
            "grid_template_rows": null,
            "height": null,
            "justify_content": null,
            "justify_items": null,
            "left": null,
            "margin": null,
            "max_height": null,
            "max_width": null,
            "min_height": null,
            "min_width": null,
            "object_fit": null,
            "object_position": null,
            "order": null,
            "overflow": null,
            "overflow_x": null,
            "overflow_y": null,
            "padding": null,
            "right": null,
            "top": null,
            "visibility": null,
            "width": null
          }
        },
        "85e16a634a4d4011b81579dca5427bec": {
          "model_module": "@jupyter-widgets/base",
          "model_name": "LayoutModel",
          "model_module_version": "1.2.0",
          "state": {
            "_model_module": "@jupyter-widgets/base",
            "_model_module_version": "1.2.0",
            "_model_name": "LayoutModel",
            "_view_count": null,
            "_view_module": "@jupyter-widgets/base",
            "_view_module_version": "1.2.0",
            "_view_name": "LayoutView",
            "align_content": null,
            "align_items": null,
            "align_self": null,
            "border": null,
            "bottom": null,
            "display": null,
            "flex": null,
            "flex_flow": null,
            "grid_area": null,
            "grid_auto_columns": null,
            "grid_auto_flow": null,
            "grid_auto_rows": null,
            "grid_column": null,
            "grid_gap": null,
            "grid_row": null,
            "grid_template_areas": null,
            "grid_template_columns": null,
            "grid_template_rows": null,
            "height": null,
            "justify_content": null,
            "justify_items": null,
            "left": null,
            "margin": null,
            "max_height": null,
            "max_width": null,
            "min_height": null,
            "min_width": null,
            "object_fit": null,
            "object_position": null,
            "order": null,
            "overflow": null,
            "overflow_x": null,
            "overflow_y": null,
            "padding": null,
            "right": null,
            "top": null,
            "visibility": null,
            "width": null
          }
        },
        "0963fe89302d4652abdb908133c5f3fc": {
          "model_module": "@jupyter-widgets/controls",
          "model_name": "DescriptionStyleModel",
          "model_module_version": "1.5.0",
          "state": {
            "_model_module": "@jupyter-widgets/controls",
            "_model_module_version": "1.5.0",
            "_model_name": "DescriptionStyleModel",
            "_view_count": null,
            "_view_module": "@jupyter-widgets/base",
            "_view_module_version": "1.2.0",
            "_view_name": "StyleView",
            "description_width": ""
          }
        },
        "29b547b5c44b411e94fff78f24e8265c": {
          "model_module": "@jupyter-widgets/base",
          "model_name": "LayoutModel",
          "model_module_version": "1.2.0",
          "state": {
            "_model_module": "@jupyter-widgets/base",
            "_model_module_version": "1.2.0",
            "_model_name": "LayoutModel",
            "_view_count": null,
            "_view_module": "@jupyter-widgets/base",
            "_view_module_version": "1.2.0",
            "_view_name": "LayoutView",
            "align_content": null,
            "align_items": null,
            "align_self": null,
            "border": null,
            "bottom": null,
            "display": null,
            "flex": null,
            "flex_flow": null,
            "grid_area": null,
            "grid_auto_columns": null,
            "grid_auto_flow": null,
            "grid_auto_rows": null,
            "grid_column": null,
            "grid_gap": null,
            "grid_row": null,
            "grid_template_areas": null,
            "grid_template_columns": null,
            "grid_template_rows": null,
            "height": null,
            "justify_content": null,
            "justify_items": null,
            "left": null,
            "margin": null,
            "max_height": null,
            "max_width": null,
            "min_height": null,
            "min_width": null,
            "object_fit": null,
            "object_position": null,
            "order": null,
            "overflow": null,
            "overflow_x": null,
            "overflow_y": null,
            "padding": null,
            "right": null,
            "top": null,
            "visibility": null,
            "width": null
          }
        },
        "65594bc367f747c3bdd1f59a5edcd941": {
          "model_module": "@jupyter-widgets/controls",
          "model_name": "ProgressStyleModel",
          "model_module_version": "1.5.0",
          "state": {
            "_model_module": "@jupyter-widgets/controls",
            "_model_module_version": "1.5.0",
            "_model_name": "ProgressStyleModel",
            "_view_count": null,
            "_view_module": "@jupyter-widgets/base",
            "_view_module_version": "1.2.0",
            "_view_name": "StyleView",
            "bar_color": null,
            "description_width": ""
          }
        },
        "213cbd0cfb35448fb13893e126771ef7": {
          "model_module": "@jupyter-widgets/base",
          "model_name": "LayoutModel",
          "model_module_version": "1.2.0",
          "state": {
            "_model_module": "@jupyter-widgets/base",
            "_model_module_version": "1.2.0",
            "_model_name": "LayoutModel",
            "_view_count": null,
            "_view_module": "@jupyter-widgets/base",
            "_view_module_version": "1.2.0",
            "_view_name": "LayoutView",
            "align_content": null,
            "align_items": null,
            "align_self": null,
            "border": null,
            "bottom": null,
            "display": null,
            "flex": null,
            "flex_flow": null,
            "grid_area": null,
            "grid_auto_columns": null,
            "grid_auto_flow": null,
            "grid_auto_rows": null,
            "grid_column": null,
            "grid_gap": null,
            "grid_row": null,
            "grid_template_areas": null,
            "grid_template_columns": null,
            "grid_template_rows": null,
            "height": null,
            "justify_content": null,
            "justify_items": null,
            "left": null,
            "margin": null,
            "max_height": null,
            "max_width": null,
            "min_height": null,
            "min_width": null,
            "object_fit": null,
            "object_position": null,
            "order": null,
            "overflow": null,
            "overflow_x": null,
            "overflow_y": null,
            "padding": null,
            "right": null,
            "top": null,
            "visibility": null,
            "width": null
          }
        },
        "07304763ccd147709c484650c11ced55": {
          "model_module": "@jupyter-widgets/controls",
          "model_name": "DescriptionStyleModel",
          "model_module_version": "1.5.0",
          "state": {
            "_model_module": "@jupyter-widgets/controls",
            "_model_module_version": "1.5.0",
            "_model_name": "DescriptionStyleModel",
            "_view_count": null,
            "_view_module": "@jupyter-widgets/base",
            "_view_module_version": "1.2.0",
            "_view_name": "StyleView",
            "description_width": ""
          }
        },
        "719b7379602e4901be22cb3b04cb39d7": {
          "model_module": "@jupyter-widgets/controls",
          "model_name": "HBoxModel",
          "model_module_version": "1.5.0",
          "state": {
            "_dom_classes": [],
            "_model_module": "@jupyter-widgets/controls",
            "_model_module_version": "1.5.0",
            "_model_name": "HBoxModel",
            "_view_count": null,
            "_view_module": "@jupyter-widgets/controls",
            "_view_module_version": "1.5.0",
            "_view_name": "HBoxView",
            "box_style": "",
            "children": [
              "IPY_MODEL_c4d37e4268514c29b4f5bba71c5b047f",
              "IPY_MODEL_bcd0a8b61b964cceb0f3d89cb69f32c7",
              "IPY_MODEL_afbb270e09114d26b425180799f617d9"
            ],
            "layout": "IPY_MODEL_64dcc076b8a143629865229d70b2c458"
          }
        },
        "c4d37e4268514c29b4f5bba71c5b047f": {
          "model_module": "@jupyter-widgets/controls",
          "model_name": "HTMLModel",
          "model_module_version": "1.5.0",
          "state": {
            "_dom_classes": [],
            "_model_module": "@jupyter-widgets/controls",
            "_model_module_version": "1.5.0",
            "_model_name": "HTMLModel",
            "_view_count": null,
            "_view_module": "@jupyter-widgets/controls",
            "_view_module_version": "1.5.0",
            "_view_name": "HTMLView",
            "description": "",
            "description_tooltip": null,
            "layout": "IPY_MODEL_8ebc7e95c88e4391a3e6b67468be318a",
            "placeholder": "​",
            "style": "IPY_MODEL_e74a0abc144443a794530d8298eef970",
            "value": "Downloading (…)lve/main/config.json: 100%"
          }
        },
        "bcd0a8b61b964cceb0f3d89cb69f32c7": {
          "model_module": "@jupyter-widgets/controls",
          "model_name": "FloatProgressModel",
          "model_module_version": "1.5.0",
          "state": {
            "_dom_classes": [],
            "_model_module": "@jupyter-widgets/controls",
            "_model_module_version": "1.5.0",
            "_model_name": "FloatProgressModel",
            "_view_count": null,
            "_view_module": "@jupyter-widgets/controls",
            "_view_module_version": "1.5.0",
            "_view_name": "ProgressView",
            "bar_style": "success",
            "description": "",
            "description_tooltip": null,
            "layout": "IPY_MODEL_efeb0d20250148df907e069bc399971d",
            "max": 725,
            "min": 0,
            "orientation": "horizontal",
            "style": "IPY_MODEL_32191ce604fe42f19db66c587e119785",
            "value": 725
          }
        },
        "afbb270e09114d26b425180799f617d9": {
          "model_module": "@jupyter-widgets/controls",
          "model_name": "HTMLModel",
          "model_module_version": "1.5.0",
          "state": {
            "_dom_classes": [],
            "_model_module": "@jupyter-widgets/controls",
            "_model_module_version": "1.5.0",
            "_model_name": "HTMLModel",
            "_view_count": null,
            "_view_module": "@jupyter-widgets/controls",
            "_view_module_version": "1.5.0",
            "_view_name": "HTMLView",
            "description": "",
            "description_tooltip": null,
            "layout": "IPY_MODEL_a6671c41fc7545d8921c661e4f628aaf",
            "placeholder": "​",
            "style": "IPY_MODEL_db0e65c627b8443ebe65302b61c64009",
            "value": " 725/725 [00:00&lt;00:00, 15.7kB/s]"
          }
        },
        "64dcc076b8a143629865229d70b2c458": {
          "model_module": "@jupyter-widgets/base",
          "model_name": "LayoutModel",
          "model_module_version": "1.2.0",
          "state": {
            "_model_module": "@jupyter-widgets/base",
            "_model_module_version": "1.2.0",
            "_model_name": "LayoutModel",
            "_view_count": null,
            "_view_module": "@jupyter-widgets/base",
            "_view_module_version": "1.2.0",
            "_view_name": "LayoutView",
            "align_content": null,
            "align_items": null,
            "align_self": null,
            "border": null,
            "bottom": null,
            "display": null,
            "flex": null,
            "flex_flow": null,
            "grid_area": null,
            "grid_auto_columns": null,
            "grid_auto_flow": null,
            "grid_auto_rows": null,
            "grid_column": null,
            "grid_gap": null,
            "grid_row": null,
            "grid_template_areas": null,
            "grid_template_columns": null,
            "grid_template_rows": null,
            "height": null,
            "justify_content": null,
            "justify_items": null,
            "left": null,
            "margin": null,
            "max_height": null,
            "max_width": null,
            "min_height": null,
            "min_width": null,
            "object_fit": null,
            "object_position": null,
            "order": null,
            "overflow": null,
            "overflow_x": null,
            "overflow_y": null,
            "padding": null,
            "right": null,
            "top": null,
            "visibility": null,
            "width": null
          }
        },
        "8ebc7e95c88e4391a3e6b67468be318a": {
          "model_module": "@jupyter-widgets/base",
          "model_name": "LayoutModel",
          "model_module_version": "1.2.0",
          "state": {
            "_model_module": "@jupyter-widgets/base",
            "_model_module_version": "1.2.0",
            "_model_name": "LayoutModel",
            "_view_count": null,
            "_view_module": "@jupyter-widgets/base",
            "_view_module_version": "1.2.0",
            "_view_name": "LayoutView",
            "align_content": null,
            "align_items": null,
            "align_self": null,
            "border": null,
            "bottom": null,
            "display": null,
            "flex": null,
            "flex_flow": null,
            "grid_area": null,
            "grid_auto_columns": null,
            "grid_auto_flow": null,
            "grid_auto_rows": null,
            "grid_column": null,
            "grid_gap": null,
            "grid_row": null,
            "grid_template_areas": null,
            "grid_template_columns": null,
            "grid_template_rows": null,
            "height": null,
            "justify_content": null,
            "justify_items": null,
            "left": null,
            "margin": null,
            "max_height": null,
            "max_width": null,
            "min_height": null,
            "min_width": null,
            "object_fit": null,
            "object_position": null,
            "order": null,
            "overflow": null,
            "overflow_x": null,
            "overflow_y": null,
            "padding": null,
            "right": null,
            "top": null,
            "visibility": null,
            "width": null
          }
        },
        "e74a0abc144443a794530d8298eef970": {
          "model_module": "@jupyter-widgets/controls",
          "model_name": "DescriptionStyleModel",
          "model_module_version": "1.5.0",
          "state": {
            "_model_module": "@jupyter-widgets/controls",
            "_model_module_version": "1.5.0",
            "_model_name": "DescriptionStyleModel",
            "_view_count": null,
            "_view_module": "@jupyter-widgets/base",
            "_view_module_version": "1.2.0",
            "_view_name": "StyleView",
            "description_width": ""
          }
        },
        "efeb0d20250148df907e069bc399971d": {
          "model_module": "@jupyter-widgets/base",
          "model_name": "LayoutModel",
          "model_module_version": "1.2.0",
          "state": {
            "_model_module": "@jupyter-widgets/base",
            "_model_module_version": "1.2.0",
            "_model_name": "LayoutModel",
            "_view_count": null,
            "_view_module": "@jupyter-widgets/base",
            "_view_module_version": "1.2.0",
            "_view_name": "LayoutView",
            "align_content": null,
            "align_items": null,
            "align_self": null,
            "border": null,
            "bottom": null,
            "display": null,
            "flex": null,
            "flex_flow": null,
            "grid_area": null,
            "grid_auto_columns": null,
            "grid_auto_flow": null,
            "grid_auto_rows": null,
            "grid_column": null,
            "grid_gap": null,
            "grid_row": null,
            "grid_template_areas": null,
            "grid_template_columns": null,
            "grid_template_rows": null,
            "height": null,
            "justify_content": null,
            "justify_items": null,
            "left": null,
            "margin": null,
            "max_height": null,
            "max_width": null,
            "min_height": null,
            "min_width": null,
            "object_fit": null,
            "object_position": null,
            "order": null,
            "overflow": null,
            "overflow_x": null,
            "overflow_y": null,
            "padding": null,
            "right": null,
            "top": null,
            "visibility": null,
            "width": null
          }
        },
        "32191ce604fe42f19db66c587e119785": {
          "model_module": "@jupyter-widgets/controls",
          "model_name": "ProgressStyleModel",
          "model_module_version": "1.5.0",
          "state": {
            "_model_module": "@jupyter-widgets/controls",
            "_model_module_version": "1.5.0",
            "_model_name": "ProgressStyleModel",
            "_view_count": null,
            "_view_module": "@jupyter-widgets/base",
            "_view_module_version": "1.2.0",
            "_view_name": "StyleView",
            "bar_color": null,
            "description_width": ""
          }
        },
        "a6671c41fc7545d8921c661e4f628aaf": {
          "model_module": "@jupyter-widgets/base",
          "model_name": "LayoutModel",
          "model_module_version": "1.2.0",
          "state": {
            "_model_module": "@jupyter-widgets/base",
            "_model_module_version": "1.2.0",
            "_model_name": "LayoutModel",
            "_view_count": null,
            "_view_module": "@jupyter-widgets/base",
            "_view_module_version": "1.2.0",
            "_view_name": "LayoutView",
            "align_content": null,
            "align_items": null,
            "align_self": null,
            "border": null,
            "bottom": null,
            "display": null,
            "flex": null,
            "flex_flow": null,
            "grid_area": null,
            "grid_auto_columns": null,
            "grid_auto_flow": null,
            "grid_auto_rows": null,
            "grid_column": null,
            "grid_gap": null,
            "grid_row": null,
            "grid_template_areas": null,
            "grid_template_columns": null,
            "grid_template_rows": null,
            "height": null,
            "justify_content": null,
            "justify_items": null,
            "left": null,
            "margin": null,
            "max_height": null,
            "max_width": null,
            "min_height": null,
            "min_width": null,
            "object_fit": null,
            "object_position": null,
            "order": null,
            "overflow": null,
            "overflow_x": null,
            "overflow_y": null,
            "padding": null,
            "right": null,
            "top": null,
            "visibility": null,
            "width": null
          }
        },
        "db0e65c627b8443ebe65302b61c64009": {
          "model_module": "@jupyter-widgets/controls",
          "model_name": "DescriptionStyleModel",
          "model_module_version": "1.5.0",
          "state": {
            "_model_module": "@jupyter-widgets/controls",
            "_model_module_version": "1.5.0",
            "_model_name": "DescriptionStyleModel",
            "_view_count": null,
            "_view_module": "@jupyter-widgets/base",
            "_view_module_version": "1.2.0",
            "_view_name": "StyleView",
            "description_width": ""
          }
        },
        "d022a93bf9394baabfb74b554f41658f": {
          "model_module": "@jupyter-widgets/controls",
          "model_name": "HBoxModel",
          "model_module_version": "1.5.0",
          "state": {
            "_dom_classes": [],
            "_model_module": "@jupyter-widgets/controls",
            "_model_module_version": "1.5.0",
            "_model_name": "HBoxModel",
            "_view_count": null,
            "_view_module": "@jupyter-widgets/controls",
            "_view_module_version": "1.5.0",
            "_view_name": "HBoxView",
            "box_style": "",
            "children": [
              "IPY_MODEL_45850532b3fa43cfa6273851eefd710d",
              "IPY_MODEL_a6828c4d325540a29c838f6b4aa8f3d6",
              "IPY_MODEL_f188191e4ed9466bbce6a995efb31159"
            ],
            "layout": "IPY_MODEL_b1e09334cb5e4eb98f00d1aebb62a8e5"
          }
        },
        "45850532b3fa43cfa6273851eefd710d": {
          "model_module": "@jupyter-widgets/controls",
          "model_name": "HTMLModel",
          "model_module_version": "1.5.0",
          "state": {
            "_dom_classes": [],
            "_model_module": "@jupyter-widgets/controls",
            "_model_module_version": "1.5.0",
            "_model_name": "HTMLModel",
            "_view_count": null,
            "_view_module": "@jupyter-widgets/controls",
            "_view_module_version": "1.5.0",
            "_view_name": "HTMLView",
            "description": "",
            "description_tooltip": null,
            "layout": "IPY_MODEL_ce184e38966e44138560d42fc7296a22",
            "placeholder": "​",
            "style": "IPY_MODEL_9f556855e6974dd7ad9563ce3bf40866",
            "value": "Downloading pytorch_model.bin: 100%"
          }
        },
        "a6828c4d325540a29c838f6b4aa8f3d6": {
          "model_module": "@jupyter-widgets/controls",
          "model_name": "FloatProgressModel",
          "model_module_version": "1.5.0",
          "state": {
            "_dom_classes": [],
            "_model_module": "@jupyter-widgets/controls",
            "_model_module_version": "1.5.0",
            "_model_name": "FloatProgressModel",
            "_view_count": null,
            "_view_module": "@jupyter-widgets/controls",
            "_view_module_version": "1.5.0",
            "_view_name": "ProgressView",
            "bar_style": "success",
            "description": "",
            "description_tooltip": null,
            "layout": "IPY_MODEL_e5514334bb32425abcd45023048a6ca7",
            "max": 376924301,
            "min": 0,
            "orientation": "horizontal",
            "style": "IPY_MODEL_cafd9a17c5684c13b8733c7b414f12cd",
            "value": 376924301
          }
        },
        "f188191e4ed9466bbce6a995efb31159": {
          "model_module": "@jupyter-widgets/controls",
          "model_name": "HTMLModel",
          "model_module_version": "1.5.0",
          "state": {
            "_dom_classes": [],
            "_model_module": "@jupyter-widgets/controls",
            "_model_module_version": "1.5.0",
            "_model_name": "HTMLModel",
            "_view_count": null,
            "_view_module": "@jupyter-widgets/controls",
            "_view_module_version": "1.5.0",
            "_view_name": "HTMLView",
            "description": "",
            "description_tooltip": null,
            "layout": "IPY_MODEL_f0b3619796524f78acd2cb50a8b56009",
            "placeholder": "​",
            "style": "IPY_MODEL_85e1b833d04f4da19bc4de6ab21426ce",
            "value": " 377M/377M [00:02&lt;00:00, 136MB/s]"
          }
        },
        "b1e09334cb5e4eb98f00d1aebb62a8e5": {
          "model_module": "@jupyter-widgets/base",
          "model_name": "LayoutModel",
          "model_module_version": "1.2.0",
          "state": {
            "_model_module": "@jupyter-widgets/base",
            "_model_module_version": "1.2.0",
            "_model_name": "LayoutModel",
            "_view_count": null,
            "_view_module": "@jupyter-widgets/base",
            "_view_module_version": "1.2.0",
            "_view_name": "LayoutView",
            "align_content": null,
            "align_items": null,
            "align_self": null,
            "border": null,
            "bottom": null,
            "display": null,
            "flex": null,
            "flex_flow": null,
            "grid_area": null,
            "grid_auto_columns": null,
            "grid_auto_flow": null,
            "grid_auto_rows": null,
            "grid_column": null,
            "grid_gap": null,
            "grid_row": null,
            "grid_template_areas": null,
            "grid_template_columns": null,
            "grid_template_rows": null,
            "height": null,
            "justify_content": null,
            "justify_items": null,
            "left": null,
            "margin": null,
            "max_height": null,
            "max_width": null,
            "min_height": null,
            "min_width": null,
            "object_fit": null,
            "object_position": null,
            "order": null,
            "overflow": null,
            "overflow_x": null,
            "overflow_y": null,
            "padding": null,
            "right": null,
            "top": null,
            "visibility": null,
            "width": null
          }
        },
        "ce184e38966e44138560d42fc7296a22": {
          "model_module": "@jupyter-widgets/base",
          "model_name": "LayoutModel",
          "model_module_version": "1.2.0",
          "state": {
            "_model_module": "@jupyter-widgets/base",
            "_model_module_version": "1.2.0",
            "_model_name": "LayoutModel",
            "_view_count": null,
            "_view_module": "@jupyter-widgets/base",
            "_view_module_version": "1.2.0",
            "_view_name": "LayoutView",
            "align_content": null,
            "align_items": null,
            "align_self": null,
            "border": null,
            "bottom": null,
            "display": null,
            "flex": null,
            "flex_flow": null,
            "grid_area": null,
            "grid_auto_columns": null,
            "grid_auto_flow": null,
            "grid_auto_rows": null,
            "grid_column": null,
            "grid_gap": null,
            "grid_row": null,
            "grid_template_areas": null,
            "grid_template_columns": null,
            "grid_template_rows": null,
            "height": null,
            "justify_content": null,
            "justify_items": null,
            "left": null,
            "margin": null,
            "max_height": null,
            "max_width": null,
            "min_height": null,
            "min_width": null,
            "object_fit": null,
            "object_position": null,
            "order": null,
            "overflow": null,
            "overflow_x": null,
            "overflow_y": null,
            "padding": null,
            "right": null,
            "top": null,
            "visibility": null,
            "width": null
          }
        },
        "9f556855e6974dd7ad9563ce3bf40866": {
          "model_module": "@jupyter-widgets/controls",
          "model_name": "DescriptionStyleModel",
          "model_module_version": "1.5.0",
          "state": {
            "_model_module": "@jupyter-widgets/controls",
            "_model_module_version": "1.5.0",
            "_model_name": "DescriptionStyleModel",
            "_view_count": null,
            "_view_module": "@jupyter-widgets/base",
            "_view_module_version": "1.2.0",
            "_view_name": "StyleView",
            "description_width": ""
          }
        },
        "e5514334bb32425abcd45023048a6ca7": {
          "model_module": "@jupyter-widgets/base",
          "model_name": "LayoutModel",
          "model_module_version": "1.2.0",
          "state": {
            "_model_module": "@jupyter-widgets/base",
            "_model_module_version": "1.2.0",
            "_model_name": "LayoutModel",
            "_view_count": null,
            "_view_module": "@jupyter-widgets/base",
            "_view_module_version": "1.2.0",
            "_view_name": "LayoutView",
            "align_content": null,
            "align_items": null,
            "align_self": null,
            "border": null,
            "bottom": null,
            "display": null,
            "flex": null,
            "flex_flow": null,
            "grid_area": null,
            "grid_auto_columns": null,
            "grid_auto_flow": null,
            "grid_auto_rows": null,
            "grid_column": null,
            "grid_gap": null,
            "grid_row": null,
            "grid_template_areas": null,
            "grid_template_columns": null,
            "grid_template_rows": null,
            "height": null,
            "justify_content": null,
            "justify_items": null,
            "left": null,
            "margin": null,
            "max_height": null,
            "max_width": null,
            "min_height": null,
            "min_width": null,
            "object_fit": null,
            "object_position": null,
            "order": null,
            "overflow": null,
            "overflow_x": null,
            "overflow_y": null,
            "padding": null,
            "right": null,
            "top": null,
            "visibility": null,
            "width": null
          }
        },
        "cafd9a17c5684c13b8733c7b414f12cd": {
          "model_module": "@jupyter-widgets/controls",
          "model_name": "ProgressStyleModel",
          "model_module_version": "1.5.0",
          "state": {
            "_model_module": "@jupyter-widgets/controls",
            "_model_module_version": "1.5.0",
            "_model_name": "ProgressStyleModel",
            "_view_count": null,
            "_view_module": "@jupyter-widgets/base",
            "_view_module_version": "1.2.0",
            "_view_name": "StyleView",
            "bar_color": null,
            "description_width": ""
          }
        },
        "f0b3619796524f78acd2cb50a8b56009": {
          "model_module": "@jupyter-widgets/base",
          "model_name": "LayoutModel",
          "model_module_version": "1.2.0",
          "state": {
            "_model_module": "@jupyter-widgets/base",
            "_model_module_version": "1.2.0",
            "_model_name": "LayoutModel",
            "_view_count": null,
            "_view_module": "@jupyter-widgets/base",
            "_view_module_version": "1.2.0",
            "_view_name": "LayoutView",
            "align_content": null,
            "align_items": null,
            "align_self": null,
            "border": null,
            "bottom": null,
            "display": null,
            "flex": null,
            "flex_flow": null,
            "grid_area": null,
            "grid_auto_columns": null,
            "grid_auto_flow": null,
            "grid_auto_rows": null,
            "grid_column": null,
            "grid_gap": null,
            "grid_row": null,
            "grid_template_areas": null,
            "grid_template_columns": null,
            "grid_template_rows": null,
            "height": null,
            "justify_content": null,
            "justify_items": null,
            "left": null,
            "margin": null,
            "max_height": null,
            "max_width": null,
            "min_height": null,
            "min_width": null,
            "object_fit": null,
            "object_position": null,
            "order": null,
            "overflow": null,
            "overflow_x": null,
            "overflow_y": null,
            "padding": null,
            "right": null,
            "top": null,
            "visibility": null,
            "width": null
          }
        },
        "85e1b833d04f4da19bc4de6ab21426ce": {
          "model_module": "@jupyter-widgets/controls",
          "model_name": "DescriptionStyleModel",
          "model_module_version": "1.5.0",
          "state": {
            "_model_module": "@jupyter-widgets/controls",
            "_model_module_version": "1.5.0",
            "_model_name": "DescriptionStyleModel",
            "_view_count": null,
            "_view_module": "@jupyter-widgets/base",
            "_view_module_version": "1.2.0",
            "_view_name": "StyleView",
            "description_width": ""
          }
        }
      }
    }
  },
  "nbformat": 4,
  "nbformat_minor": 0
}